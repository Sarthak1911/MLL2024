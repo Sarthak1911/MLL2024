{
 "cells": [
  {
   "cell_type": "code",
   "execution_count": 1,
   "id": "b62007f6",
   "metadata": {},
   "outputs": [],
   "source": [
    "import pandas as pd\n",
    "import numpy as np"
   ]
  },
  {
   "cell_type": "code",
   "execution_count": 2,
   "id": "52179215",
   "metadata": {},
   "outputs": [],
   "source": [
    "df = pd.read_csv('/Users/nageshjadhav/Desktop/adult.csv')"
   ]
  },
  {
   "cell_type": "code",
   "execution_count": 3,
   "id": "3ec3726d",
   "metadata": {},
   "outputs": [
    {
     "data": {
      "text/html": [
       "<div>\n",
       "<style scoped>\n",
       "    .dataframe tbody tr th:only-of-type {\n",
       "        vertical-align: middle;\n",
       "    }\n",
       "\n",
       "    .dataframe tbody tr th {\n",
       "        vertical-align: top;\n",
       "    }\n",
       "\n",
       "    .dataframe thead th {\n",
       "        text-align: right;\n",
       "    }\n",
       "</style>\n",
       "<table border=\"1\" class=\"dataframe\">\n",
       "  <thead>\n",
       "    <tr style=\"text-align: right;\">\n",
       "      <th></th>\n",
       "      <th>age</th>\n",
       "      <th>workclass</th>\n",
       "      <th>fnlwgt</th>\n",
       "      <th>education</th>\n",
       "      <th>educational-num</th>\n",
       "      <th>marital-status</th>\n",
       "      <th>occupation</th>\n",
       "      <th>relationship</th>\n",
       "      <th>race</th>\n",
       "      <th>gender</th>\n",
       "      <th>capital-gain</th>\n",
       "      <th>capital-loss</th>\n",
       "      <th>hours-per-week</th>\n",
       "      <th>native-country</th>\n",
       "      <th>income</th>\n",
       "    </tr>\n",
       "  </thead>\n",
       "  <tbody>\n",
       "    <tr>\n",
       "      <th>0</th>\n",
       "      <td>25</td>\n",
       "      <td>Private</td>\n",
       "      <td>226802</td>\n",
       "      <td>11th</td>\n",
       "      <td>7</td>\n",
       "      <td>Never-married</td>\n",
       "      <td>Machine-op-inspct</td>\n",
       "      <td>Own-child</td>\n",
       "      <td>Black</td>\n",
       "      <td>Male</td>\n",
       "      <td>0</td>\n",
       "      <td>0</td>\n",
       "      <td>40</td>\n",
       "      <td>United-States</td>\n",
       "      <td>&lt;=50K</td>\n",
       "    </tr>\n",
       "    <tr>\n",
       "      <th>1</th>\n",
       "      <td>38</td>\n",
       "      <td>Private</td>\n",
       "      <td>89814</td>\n",
       "      <td>HS-grad</td>\n",
       "      <td>9</td>\n",
       "      <td>Married-civ-spouse</td>\n",
       "      <td>Farming-fishing</td>\n",
       "      <td>Husband</td>\n",
       "      <td>White</td>\n",
       "      <td>Male</td>\n",
       "      <td>0</td>\n",
       "      <td>0</td>\n",
       "      <td>50</td>\n",
       "      <td>United-States</td>\n",
       "      <td>&lt;=50K</td>\n",
       "    </tr>\n",
       "    <tr>\n",
       "      <th>2</th>\n",
       "      <td>28</td>\n",
       "      <td>Local-gov</td>\n",
       "      <td>336951</td>\n",
       "      <td>Assoc-acdm</td>\n",
       "      <td>12</td>\n",
       "      <td>Married-civ-spouse</td>\n",
       "      <td>Protective-serv</td>\n",
       "      <td>Husband</td>\n",
       "      <td>White</td>\n",
       "      <td>Male</td>\n",
       "      <td>0</td>\n",
       "      <td>0</td>\n",
       "      <td>40</td>\n",
       "      <td>United-States</td>\n",
       "      <td>&gt;50K</td>\n",
       "    </tr>\n",
       "    <tr>\n",
       "      <th>3</th>\n",
       "      <td>44</td>\n",
       "      <td>Private</td>\n",
       "      <td>160323</td>\n",
       "      <td>Some-college</td>\n",
       "      <td>10</td>\n",
       "      <td>Married-civ-spouse</td>\n",
       "      <td>Machine-op-inspct</td>\n",
       "      <td>Husband</td>\n",
       "      <td>Black</td>\n",
       "      <td>Male</td>\n",
       "      <td>7688</td>\n",
       "      <td>0</td>\n",
       "      <td>40</td>\n",
       "      <td>United-States</td>\n",
       "      <td>&gt;50K</td>\n",
       "    </tr>\n",
       "    <tr>\n",
       "      <th>4</th>\n",
       "      <td>18</td>\n",
       "      <td>?</td>\n",
       "      <td>103497</td>\n",
       "      <td>Some-college</td>\n",
       "      <td>10</td>\n",
       "      <td>Never-married</td>\n",
       "      <td>?</td>\n",
       "      <td>Own-child</td>\n",
       "      <td>White</td>\n",
       "      <td>Female</td>\n",
       "      <td>0</td>\n",
       "      <td>0</td>\n",
       "      <td>30</td>\n",
       "      <td>United-States</td>\n",
       "      <td>&lt;=50K</td>\n",
       "    </tr>\n",
       "  </tbody>\n",
       "</table>\n",
       "</div>"
      ],
      "text/plain": [
       "   age  workclass  fnlwgt     education  educational-num      marital-status  \\\n",
       "0   25    Private  226802          11th                7       Never-married   \n",
       "1   38    Private   89814       HS-grad                9  Married-civ-spouse   \n",
       "2   28  Local-gov  336951    Assoc-acdm               12  Married-civ-spouse   \n",
       "3   44    Private  160323  Some-college               10  Married-civ-spouse   \n",
       "4   18          ?  103497  Some-college               10       Never-married   \n",
       "\n",
       "          occupation relationship   race  gender  capital-gain  capital-loss  \\\n",
       "0  Machine-op-inspct    Own-child  Black    Male             0             0   \n",
       "1    Farming-fishing      Husband  White    Male             0             0   \n",
       "2    Protective-serv      Husband  White    Male             0             0   \n",
       "3  Machine-op-inspct      Husband  Black    Male          7688             0   \n",
       "4                  ?    Own-child  White  Female             0             0   \n",
       "\n",
       "   hours-per-week native-country income  \n",
       "0              40  United-States  <=50K  \n",
       "1              50  United-States  <=50K  \n",
       "2              40  United-States   >50K  \n",
       "3              40  United-States   >50K  \n",
       "4              30  United-States  <=50K  "
      ]
     },
     "execution_count": 3,
     "metadata": {},
     "output_type": "execute_result"
    }
   ],
   "source": [
    "df.head()"
   ]
  },
  {
   "cell_type": "code",
   "execution_count": 4,
   "id": "044bb661",
   "metadata": {},
   "outputs": [
    {
     "data": {
      "text/html": [
       "<div>\n",
       "<style scoped>\n",
       "    .dataframe tbody tr th:only-of-type {\n",
       "        vertical-align: middle;\n",
       "    }\n",
       "\n",
       "    .dataframe tbody tr th {\n",
       "        vertical-align: top;\n",
       "    }\n",
       "\n",
       "    .dataframe thead th {\n",
       "        text-align: right;\n",
       "    }\n",
       "</style>\n",
       "<table border=\"1\" class=\"dataframe\">\n",
       "  <thead>\n",
       "    <tr style=\"text-align: right;\">\n",
       "      <th></th>\n",
       "      <th>age</th>\n",
       "      <th>fnlwgt</th>\n",
       "      <th>educational-num</th>\n",
       "      <th>capital-gain</th>\n",
       "      <th>capital-loss</th>\n",
       "      <th>hours-per-week</th>\n",
       "    </tr>\n",
       "  </thead>\n",
       "  <tbody>\n",
       "    <tr>\n",
       "      <th>age</th>\n",
       "      <td>1.000000</td>\n",
       "      <td>-0.076628</td>\n",
       "      <td>0.030940</td>\n",
       "      <td>0.077229</td>\n",
       "      <td>0.056944</td>\n",
       "      <td>0.071558</td>\n",
       "    </tr>\n",
       "    <tr>\n",
       "      <th>fnlwgt</th>\n",
       "      <td>-0.076628</td>\n",
       "      <td>1.000000</td>\n",
       "      <td>-0.038761</td>\n",
       "      <td>-0.003706</td>\n",
       "      <td>-0.004366</td>\n",
       "      <td>-0.013519</td>\n",
       "    </tr>\n",
       "    <tr>\n",
       "      <th>educational-num</th>\n",
       "      <td>0.030940</td>\n",
       "      <td>-0.038761</td>\n",
       "      <td>1.000000</td>\n",
       "      <td>0.125146</td>\n",
       "      <td>0.080972</td>\n",
       "      <td>0.143689</td>\n",
       "    </tr>\n",
       "    <tr>\n",
       "      <th>capital-gain</th>\n",
       "      <td>0.077229</td>\n",
       "      <td>-0.003706</td>\n",
       "      <td>0.125146</td>\n",
       "      <td>1.000000</td>\n",
       "      <td>-0.031441</td>\n",
       "      <td>0.082157</td>\n",
       "    </tr>\n",
       "    <tr>\n",
       "      <th>capital-loss</th>\n",
       "      <td>0.056944</td>\n",
       "      <td>-0.004366</td>\n",
       "      <td>0.080972</td>\n",
       "      <td>-0.031441</td>\n",
       "      <td>1.000000</td>\n",
       "      <td>0.054467</td>\n",
       "    </tr>\n",
       "    <tr>\n",
       "      <th>hours-per-week</th>\n",
       "      <td>0.071558</td>\n",
       "      <td>-0.013519</td>\n",
       "      <td>0.143689</td>\n",
       "      <td>0.082157</td>\n",
       "      <td>0.054467</td>\n",
       "      <td>1.000000</td>\n",
       "    </tr>\n",
       "  </tbody>\n",
       "</table>\n",
       "</div>"
      ],
      "text/plain": [
       "                      age    fnlwgt  educational-num  capital-gain  \\\n",
       "age              1.000000 -0.076628         0.030940      0.077229   \n",
       "fnlwgt          -0.076628  1.000000        -0.038761     -0.003706   \n",
       "educational-num  0.030940 -0.038761         1.000000      0.125146   \n",
       "capital-gain     0.077229 -0.003706         0.125146      1.000000   \n",
       "capital-loss     0.056944 -0.004366         0.080972     -0.031441   \n",
       "hours-per-week   0.071558 -0.013519         0.143689      0.082157   \n",
       "\n",
       "                 capital-loss  hours-per-week  \n",
       "age                  0.056944        0.071558  \n",
       "fnlwgt              -0.004366       -0.013519  \n",
       "educational-num      0.080972        0.143689  \n",
       "capital-gain        -0.031441        0.082157  \n",
       "capital-loss         1.000000        0.054467  \n",
       "hours-per-week       0.054467        1.000000  "
      ]
     },
     "execution_count": 4,
     "metadata": {},
     "output_type": "execute_result"
    }
   ],
   "source": [
    "df.corr()"
   ]
  },
  {
   "cell_type": "code",
   "execution_count": 5,
   "id": "6bda892e",
   "metadata": {},
   "outputs": [
    {
     "name": "stdout",
     "output_type": "stream",
     "text": [
      "<class 'pandas.core.frame.DataFrame'>\n",
      "RangeIndex: 48842 entries, 0 to 48841\n",
      "Data columns (total 15 columns):\n",
      " #   Column           Non-Null Count  Dtype \n",
      "---  ------           --------------  ----- \n",
      " 0   age              48842 non-null  int64 \n",
      " 1   workclass        48842 non-null  object\n",
      " 2   fnlwgt           48842 non-null  int64 \n",
      " 3   education        48842 non-null  object\n",
      " 4   educational-num  48842 non-null  int64 \n",
      " 5   marital-status   48842 non-null  object\n",
      " 6   occupation       48842 non-null  object\n",
      " 7   relationship     48842 non-null  object\n",
      " 8   race             48842 non-null  object\n",
      " 9   gender           48842 non-null  object\n",
      " 10  capital-gain     48842 non-null  int64 \n",
      " 11  capital-loss     48842 non-null  int64 \n",
      " 12  hours-per-week   48842 non-null  int64 \n",
      " 13  native-country   48842 non-null  object\n",
      " 14  income           48842 non-null  object\n",
      "dtypes: int64(6), object(9)\n",
      "memory usage: 5.6+ MB\n"
     ]
    }
   ],
   "source": [
    "df.info()"
   ]
  },
  {
   "cell_type": "code",
   "execution_count": 6,
   "id": "c9b08db0",
   "metadata": {},
   "outputs": [
    {
     "data": {
      "text/plain": [
       "age                0\n",
       "workclass          0\n",
       "fnlwgt             0\n",
       "education          0\n",
       "educational-num    0\n",
       "marital-status     0\n",
       "occupation         0\n",
       "relationship       0\n",
       "race               0\n",
       "gender             0\n",
       "capital-gain       0\n",
       "capital-loss       0\n",
       "hours-per-week     0\n",
       "native-country     0\n",
       "income             0\n",
       "dtype: int64"
      ]
     },
     "execution_count": 6,
     "metadata": {},
     "output_type": "execute_result"
    }
   ],
   "source": [
    "df.isna().sum()"
   ]
  },
  {
   "cell_type": "code",
   "execution_count": 7,
   "id": "429b0d62",
   "metadata": {},
   "outputs": [
    {
     "data": {
      "text/plain": [
       "age                   0\n",
       "workclass          2799\n",
       "fnlwgt                0\n",
       "education             0\n",
       "educational-num       0\n",
       "marital-status        0\n",
       "occupation         2809\n",
       "relationship          0\n",
       "race                  0\n",
       "gender                0\n",
       "capital-gain          0\n",
       "capital-loss          0\n",
       "hours-per-week        0\n",
       "native-country      857\n",
       "income                0\n",
       "dtype: int64"
      ]
     },
     "execution_count": 7,
     "metadata": {},
     "output_type": "execute_result"
    }
   ],
   "source": [
    "df.isin(['?']).sum()"
   ]
  },
  {
   "cell_type": "code",
   "execution_count": 8,
   "id": "5f30bf68",
   "metadata": {},
   "outputs": [
    {
     "data": {
      "text/html": [
       "<div>\n",
       "<style scoped>\n",
       "    .dataframe tbody tr th:only-of-type {\n",
       "        vertical-align: middle;\n",
       "    }\n",
       "\n",
       "    .dataframe tbody tr th {\n",
       "        vertical-align: top;\n",
       "    }\n",
       "\n",
       "    .dataframe thead th {\n",
       "        text-align: right;\n",
       "    }\n",
       "</style>\n",
       "<table border=\"1\" class=\"dataframe\">\n",
       "  <thead>\n",
       "    <tr style=\"text-align: right;\">\n",
       "      <th></th>\n",
       "      <th>age</th>\n",
       "      <th>fnlwgt</th>\n",
       "      <th>educational-num</th>\n",
       "      <th>capital-gain</th>\n",
       "      <th>capital-loss</th>\n",
       "      <th>hours-per-week</th>\n",
       "    </tr>\n",
       "  </thead>\n",
       "  <tbody>\n",
       "    <tr>\n",
       "      <th>count</th>\n",
       "      <td>48842.000000</td>\n",
       "      <td>4.884200e+04</td>\n",
       "      <td>48842.000000</td>\n",
       "      <td>48842.000000</td>\n",
       "      <td>48842.000000</td>\n",
       "      <td>48842.000000</td>\n",
       "    </tr>\n",
       "    <tr>\n",
       "      <th>mean</th>\n",
       "      <td>38.643585</td>\n",
       "      <td>1.896641e+05</td>\n",
       "      <td>10.078089</td>\n",
       "      <td>1079.067626</td>\n",
       "      <td>87.502314</td>\n",
       "      <td>40.422382</td>\n",
       "    </tr>\n",
       "    <tr>\n",
       "      <th>std</th>\n",
       "      <td>13.710510</td>\n",
       "      <td>1.056040e+05</td>\n",
       "      <td>2.570973</td>\n",
       "      <td>7452.019058</td>\n",
       "      <td>403.004552</td>\n",
       "      <td>12.391444</td>\n",
       "    </tr>\n",
       "    <tr>\n",
       "      <th>min</th>\n",
       "      <td>17.000000</td>\n",
       "      <td>1.228500e+04</td>\n",
       "      <td>1.000000</td>\n",
       "      <td>0.000000</td>\n",
       "      <td>0.000000</td>\n",
       "      <td>1.000000</td>\n",
       "    </tr>\n",
       "    <tr>\n",
       "      <th>25%</th>\n",
       "      <td>28.000000</td>\n",
       "      <td>1.175505e+05</td>\n",
       "      <td>9.000000</td>\n",
       "      <td>0.000000</td>\n",
       "      <td>0.000000</td>\n",
       "      <td>40.000000</td>\n",
       "    </tr>\n",
       "    <tr>\n",
       "      <th>50%</th>\n",
       "      <td>37.000000</td>\n",
       "      <td>1.781445e+05</td>\n",
       "      <td>10.000000</td>\n",
       "      <td>0.000000</td>\n",
       "      <td>0.000000</td>\n",
       "      <td>40.000000</td>\n",
       "    </tr>\n",
       "    <tr>\n",
       "      <th>75%</th>\n",
       "      <td>48.000000</td>\n",
       "      <td>2.376420e+05</td>\n",
       "      <td>12.000000</td>\n",
       "      <td>0.000000</td>\n",
       "      <td>0.000000</td>\n",
       "      <td>45.000000</td>\n",
       "    </tr>\n",
       "    <tr>\n",
       "      <th>max</th>\n",
       "      <td>90.000000</td>\n",
       "      <td>1.490400e+06</td>\n",
       "      <td>16.000000</td>\n",
       "      <td>99999.000000</td>\n",
       "      <td>4356.000000</td>\n",
       "      <td>99.000000</td>\n",
       "    </tr>\n",
       "  </tbody>\n",
       "</table>\n",
       "</div>"
      ],
      "text/plain": [
       "                age        fnlwgt  educational-num  capital-gain  \\\n",
       "count  48842.000000  4.884200e+04     48842.000000  48842.000000   \n",
       "mean      38.643585  1.896641e+05        10.078089   1079.067626   \n",
       "std       13.710510  1.056040e+05         2.570973   7452.019058   \n",
       "min       17.000000  1.228500e+04         1.000000      0.000000   \n",
       "25%       28.000000  1.175505e+05         9.000000      0.000000   \n",
       "50%       37.000000  1.781445e+05        10.000000      0.000000   \n",
       "75%       48.000000  2.376420e+05        12.000000      0.000000   \n",
       "max       90.000000  1.490400e+06        16.000000  99999.000000   \n",
       "\n",
       "       capital-loss  hours-per-week  \n",
       "count  48842.000000    48842.000000  \n",
       "mean      87.502314       40.422382  \n",
       "std      403.004552       12.391444  \n",
       "min        0.000000        1.000000  \n",
       "25%        0.000000       40.000000  \n",
       "50%        0.000000       40.000000  \n",
       "75%        0.000000       45.000000  \n",
       "max     4356.000000       99.000000  "
      ]
     },
     "execution_count": 8,
     "metadata": {},
     "output_type": "execute_result"
    }
   ],
   "source": [
    "df.describe()"
   ]
  },
  {
   "cell_type": "code",
   "execution_count": 9,
   "id": "8f9c37a0",
   "metadata": {},
   "outputs": [
    {
     "data": {
      "text/plain": [
       "52"
      ]
     },
     "execution_count": 9,
     "metadata": {},
     "output_type": "execute_result"
    }
   ],
   "source": [
    "df.duplicated().sum()"
   ]
  },
  {
   "cell_type": "code",
   "execution_count": 10,
   "id": "a0cfea2f",
   "metadata": {},
   "outputs": [
    {
     "name": "stdout",
     "output_type": "stream",
     "text": [
      "0\n"
     ]
    }
   ],
   "source": [
    "df = df.drop_duplicates()\n",
    "print(df.duplicated().sum())"
   ]
  },
  {
   "cell_type": "code",
   "execution_count": 11,
   "id": "b523a8c1",
   "metadata": {},
   "outputs": [
    {
     "data": {
      "text/plain": [
       "36    1348\n",
       "35    1336\n",
       "33    1335\n",
       "23    1325\n",
       "31    1324\n",
       "      ... \n",
       "88       6\n",
       "85       5\n",
       "87       3\n",
       "89       2\n",
       "86       1\n",
       "Name: age, Length: 74, dtype: int64"
      ]
     },
     "execution_count": 11,
     "metadata": {},
     "output_type": "execute_result"
    }
   ],
   "source": [
    "df['age'].value_counts()"
   ]
  },
  {
   "cell_type": "code",
   "execution_count": 12,
   "id": "f77d64eb",
   "metadata": {},
   "outputs": [
    {
     "name": "stdout",
     "output_type": "stream",
     "text": [
      "\n",
      "\n",
      "\n",
      "values of 36    1348\n",
      "35    1336\n",
      "33    1335\n",
      "23    1325\n",
      "31    1324\n",
      "      ... \n",
      "88       6\n",
      "85       5\n",
      "87       3\n",
      "89       2\n",
      "86       1\n",
      "Name: age, Length: 74, dtype: int64\n",
      "\n",
      "\n",
      "\n",
      "values of Private             33860\n",
      "Self-emp-not-inc     3861\n",
      "Local-gov            3136\n",
      "?                    2795\n",
      "State-gov            1981\n",
      "Self-emp-inc         1694\n",
      "Federal-gov          1432\n",
      "Without-pay            21\n",
      "Never-worked           10\n",
      "Name: workclass, dtype: int64\n",
      "\n",
      "\n",
      "\n",
      "values of 203488    21\n",
      "190290    19\n",
      "120277    19\n",
      "125892    18\n",
      "126569    18\n",
      "          ..\n",
      "293579     1\n",
      "114874     1\n",
      "96279      1\n",
      "509350     1\n",
      "257302     1\n",
      "Name: fnlwgt, Length: 28523, dtype: int64\n",
      "\n",
      "\n",
      "\n",
      "values of HS-grad         15770\n",
      "Some-college    10863\n",
      "Bachelors        8013\n",
      "Masters          2656\n",
      "Assoc-voc        2060\n",
      "11th             1812\n",
      "Assoc-acdm       1601\n",
      "10th             1389\n",
      "7th-8th           954\n",
      "Prof-school       834\n",
      "9th               756\n",
      "12th              655\n",
      "Doctorate         594\n",
      "5th-6th           507\n",
      "1st-4th           245\n",
      "Preschool          81\n",
      "Name: education, dtype: int64\n",
      "\n",
      "\n",
      "\n",
      "values of 9     15770\n",
      "10    10863\n",
      "13     8013\n",
      "14     2656\n",
      "11     2060\n",
      "7      1812\n",
      "12     1601\n",
      "6      1389\n",
      "4       954\n",
      "15      834\n",
      "5       756\n",
      "8       655\n",
      "16      594\n",
      "3       507\n",
      "2       245\n",
      "1        81\n",
      "Name: educational-num, dtype: int64\n",
      "\n",
      "\n",
      "\n",
      "values of Married-civ-spouse       22366\n",
      "Never-married            16082\n",
      "Divorced                  6630\n",
      "Separated                 1530\n",
      "Widowed                   1518\n",
      "Married-spouse-absent      627\n",
      "Married-AF-spouse           37\n",
      "Name: marital-status, dtype: int64\n",
      "\n",
      "\n",
      "\n",
      "values of Prof-specialty       6165\n",
      "Craft-repair         6102\n",
      "Exec-managerial      6082\n",
      "Adm-clerical         5606\n",
      "Sales                5501\n",
      "Other-service        4919\n",
      "Machine-op-inspct    3017\n",
      "?                    2805\n",
      "Transport-moving     2355\n",
      "Handlers-cleaners    2071\n",
      "Farming-fishing      1485\n",
      "Tech-support         1445\n",
      "Protective-serv       982\n",
      "Priv-house-serv       240\n",
      "Armed-Forces           15\n",
      "Name: occupation, dtype: int64\n",
      "\n",
      "\n",
      "\n",
      "values of Husband           19703\n",
      "Not-in-family     12557\n",
      "Own-child          7569\n",
      "Unmarried          5124\n",
      "Wife               2331\n",
      "Other-relative     1506\n",
      "Name: relationship, dtype: int64\n",
      "\n",
      "\n",
      "\n",
      "values of White                 41714\n",
      "Black                  4683\n",
      "Asian-Pac-Islander     1517\n",
      "Amer-Indian-Eskimo      470\n",
      "Other                   406\n",
      "Name: race, dtype: int64\n",
      "\n",
      "\n",
      "\n",
      "values of Male      32614\n",
      "Female    16176\n",
      "Name: gender, dtype: int64\n",
      "\n",
      "\n",
      "\n",
      "values of 0        44755\n",
      "15024      513\n",
      "7688       410\n",
      "7298       364\n",
      "99999      244\n",
      "         ...  \n",
      "1111         1\n",
      "7262         1\n",
      "22040        1\n",
      "1639         1\n",
      "2387         1\n",
      "Name: capital-gain, Length: 123, dtype: int64\n",
      "\n",
      "\n",
      "\n",
      "values of 0       46508\n",
      "1902      304\n",
      "1977      253\n",
      "1887      233\n",
      "2415       72\n",
      "        ...  \n",
      "2465        1\n",
      "2080        1\n",
      "155         1\n",
      "1911        1\n",
      "2201        1\n",
      "Name: capital-loss, Length: 99, dtype: int64\n",
      "\n",
      "\n",
      "\n",
      "values of 40    22773\n",
      "50     4242\n",
      "45     2715\n",
      "60     2177\n",
      "35     1934\n",
      "      ...  \n",
      "69        1\n",
      "87        1\n",
      "94        1\n",
      "82        1\n",
      "79        1\n",
      "Name: hours-per-week, Length: 96, dtype: int64\n",
      "\n",
      "\n",
      "\n",
      "values of United-States                 43792\n",
      "Mexico                          943\n",
      "?                               856\n",
      "Philippines                     294\n",
      "Germany                         206\n",
      "Puerto-Rico                     184\n",
      "Canada                          182\n",
      "El-Salvador                     155\n",
      "India                           151\n",
      "Cuba                            138\n",
      "England                         127\n",
      "China                           122\n",
      "South                           115\n",
      "Jamaica                         106\n",
      "Italy                           105\n",
      "Dominican-Republic              103\n",
      "Japan                            92\n",
      "Poland                           87\n",
      "Guatemala                        86\n",
      "Vietnam                          86\n",
      "Columbia                         85\n",
      "Haiti                            75\n",
      "Portugal                         67\n",
      "Taiwan                           65\n",
      "Iran                             59\n",
      "Greece                           49\n",
      "Nicaragua                        49\n",
      "Peru                             46\n",
      "Ecuador                          45\n",
      "France                           38\n",
      "Ireland                          37\n",
      "Hong                             30\n",
      "Thailand                         30\n",
      "Cambodia                         28\n",
      "Trinadad&Tobago                  27\n",
      "Laos                             23\n",
      "Yugoslavia                       23\n",
      "Outlying-US(Guam-USVI-etc)       23\n",
      "Scotland                         21\n",
      "Honduras                         20\n",
      "Hungary                          19\n",
      "Holand-Netherlands                1\n",
      "Name: native-country, dtype: int64\n",
      "\n",
      "\n",
      "\n",
      "values of <=50K    37109\n",
      ">50K     11681\n",
      "Name: income, dtype: int64\n"
     ]
    }
   ],
   "source": [
    "for i in df.columns:\n",
    "    a = df[i].value_counts()\n",
    "    print(f'\\n\\n\\nvalues of {a}')"
   ]
  },
  {
   "cell_type": "code",
   "execution_count": 13,
   "id": "676a5fc5",
   "metadata": {},
   "outputs": [],
   "source": [
    "df = df.replace('?',np.nan)"
   ]
  },
  {
   "cell_type": "code",
   "execution_count": 14,
   "id": "a70764a6",
   "metadata": {},
   "outputs": [
    {
     "data": {
      "text/plain": [
       "age                   0\n",
       "workclass          2795\n",
       "fnlwgt                0\n",
       "education             0\n",
       "educational-num       0\n",
       "marital-status        0\n",
       "occupation         2805\n",
       "relationship          0\n",
       "race                  0\n",
       "gender                0\n",
       "capital-gain          0\n",
       "capital-loss          0\n",
       "hours-per-week        0\n",
       "native-country      856\n",
       "income                0\n",
       "dtype: int64"
      ]
     },
     "execution_count": 14,
     "metadata": {},
     "output_type": "execute_result"
    }
   ],
   "source": [
    "df.isna().sum()"
   ]
  },
  {
   "cell_type": "markdown",
   "id": "7f627e15",
   "metadata": {},
   "source": [
    "# Feature Scaling Methods\n",
    "1) Min Max Scaler\n",
    "2) Standard Scaler\n",
    "3) Max Abs Scaler\n",
    "4) Robust Scaler\n",
    "5) Quantile Transformer Scaler\n",
    "6) Power Transformer Scaler\n",
    "7) Unit Vector Scaler"
   ]
  },
  {
   "cell_type": "code",
   "execution_count": 15,
   "id": "bccb53e9",
   "metadata": {},
   "outputs": [
    {
     "name": "stdout",
     "output_type": "stream",
     "text": [
      "[[ 2  3  7 30]\n",
      " [ 9  4  6  1]\n",
      " [ 8 15  2 40]\n",
      " [20 10  2  6]]\n"
     ]
    }
   ],
   "source": [
    "# Minmax Scaling\n",
    "import numpy as np\n",
    "from sklearn.preprocessing import MinMaxScaler\n",
    "df2=np.array([[2, 3, 7, 30],\n",
    "                  [9, 4, 6, 1],\n",
    "                  [8, 15, 2, 40],\n",
    "                  [20, 10, 2, 6]])\n",
    "print(df2)"
   ]
  },
  {
   "cell_type": "code",
   "execution_count": 16,
   "id": "5c934043",
   "metadata": {},
   "outputs": [
    {
     "data": {
      "image/png": "[encoded data removed]",
      "text/plain": [
       "<Figure size 720x504 with 1 Axes>"
      ]
     },
     "metadata": {
      "needs_background": "light"
     },
     "output_type": "display_data"
    }
   ],
   "source": [
    "import matplotlib.pyplot as plt\n",
    "fig = plt.figure(figsize =(10, 7))\n",
    "plt.boxplot(df2)\n",
    "plt.show()"
   ]
  },
  {
   "cell_type": "code",
   "execution_count": 17,
   "id": "a647999f",
   "metadata": {},
   "outputs": [
    {
     "name": "stdout",
     "output_type": "stream",
     "text": [
      "[[0.         0.         1.         0.74358974]\n",
      " [0.38888889 0.08333333 0.8        0.        ]\n",
      " [0.33333333 1.         0.         1.        ]\n",
      " [1.         0.58333333 0.         0.12820513]]\n"
     ]
    }
   ],
   "source": [
    "scaler = MinMaxScaler()\n",
    "scaler.fit(df2)\n",
    "scaled_features = scaler.transform(df2)\n",
    "print(scaled_features)"
   ]
  },
  {
   "cell_type": "code",
   "execution_count": 18,
   "id": "5bccae87",
   "metadata": {},
   "outputs": [
    {
     "data": {
      "image/png": "[encoded data removed]",
      "text/plain": [
       "<Figure size 720x504 with 1 Axes>"
      ]
     },
     "metadata": {
      "needs_background": "light"
     },
     "output_type": "display_data"
    }
   ],
   "source": [
    "fig = plt.figure(figsize =(10, 7))\n",
    "plt.boxplot(scaled_features)\n",
    "plt.show()"
   ]
  },
  {
   "cell_type": "code",
   "execution_count": 19,
   "id": "aa68f479",
   "metadata": {},
   "outputs": [
    {
     "name": "stdout",
     "output_type": "stream",
     "text": [
      "[[-1.19319056 -1.03142125  1.20740686  0.66200869]\n",
      " [-0.11547005 -0.825137    0.76834982 -1.12387522]\n",
      " [-0.26943013  1.44398974 -0.98787834  1.27783073]\n",
      " [ 1.57809074  0.4125685  -0.98787834 -0.8159642 ]]\n"
     ]
    }
   ],
   "source": [
    "#Standardization\n",
    "\n",
    "from sklearn.preprocessing import StandardScaler\n",
    "sc_X = StandardScaler()\n",
    "sc_X = sc_X.fit_transform(df2)\n",
    "print(sc_X)"
   ]
  },
  {
   "cell_type": "code",
   "execution_count": 20,
   "id": "8c6634bc",
   "metadata": {},
   "outputs": [
    {
     "data": {
      "image/png": "[encoded data removed]",
      "text/plain": [
       "<Figure size 720x504 with 1 Axes>"
      ]
     },
     "metadata": {
      "needs_background": "light"
     },
     "output_type": "display_data"
    }
   ],
   "source": [
    "fig = plt.figure(figsize =(10, 7))\n",
    "plt.boxplot(sc_X)\n",
    "plt.show()"
   ]
  },
  {
   "cell_type": "markdown",
   "id": "452efbd3",
   "metadata": {},
   "source": [
    "# Data cleaning\n",
    "1. Handling Missing Values\n",
    "2. Managing Outliers\n",
    "3. Removal of unwanted observations"
   ]
  },
  {
   "cell_type": "markdown",
   "id": "c3795899",
   "metadata": {},
   "source": [
    "# Handling Missing Values\n",
    "1. Leave as it is\n",
    "2. Filling the missing values\n",
    "3. Drop them"
   ]
  },
  {
   "cell_type": "markdown",
   "id": "df5aed7d",
   "metadata": {},
   "source": [
    "# Filling Missing Values\n",
    "\n",
    "# Drop the rows with missing values\n",
    "\n",
    "\n",
    "DataFrameName.dropna(axis=0, how='any', thresh=None, subset=None, inplace=False)\n",
    "\n",
    "axis: axis takes int or string value for rows/columns. Input can be 0 or 1 for Integer and ‘index’ or ‘columns’ for String.\n",
    "how: how takes string value of two kinds only (‘any’ or ‘all’). ‘any’ drops the row/column if ANY value is Null and ‘all’ drops only if ALL values are null.\n",
    "thresh: thresh takes integer value which tells minimum amount of na values to drop.\n",
    "subset: It’s an array which limits the dropping process to passed rows/columns through list.\n",
    "inplace: It is a boolean which makes the changes in data frame itself if True."
   ]
  },
  {
   "cell_type": "markdown",
   "id": "f2233be3",
   "metadata": {},
   "source": [
    "# Fill the rows with missing values\n",
    "\n",
    "DataFrame.fillna(value=None, method=None, axis=None, inplace=False, limit=None, downcast=None, **kwargs)\n",
    "\n",
    "value : Static, dictionary, array, series or dataframe to fill instead of NaN. \n",
    "method : Method is used if user doesn’t pass any value. Pandas has different methods like bfill, backfill or ffill which fills the place with value in the Forward index or Previous/Back respectively. \n",
    "axis: axis takes int or string value for rows/columns. Input can be 0 or 1 for Integer and ‘index’ or ‘columns’ for String \n",
    "inplace: It is a boolean which makes the changes in data frame itself if True. \n",
    "limit : This is an integer value which specifies maximum number of consecutive forward/backward NaN value fills. downcast : It takes a dict which specifies what dtype to downcast to which one. Like Float64 to int64. \n",
    "**kwargs : Any other Keyword arguments"
   ]
  },
  {
   "cell_type": "code",
   "execution_count": 21,
   "id": "aed1a9a6",
   "metadata": {},
   "outputs": [],
   "source": [
    "data = pd.read_csv('/Users/nageshjadhav/Desktop/nba.csv')"
   ]
  },
  {
   "cell_type": "code",
   "execution_count": 22,
   "id": "eb99cf4e",
   "metadata": {},
   "outputs": [
    {
     "data": {
      "text/html": [
       "<div>\n",
       "<style scoped>\n",
       "    .dataframe tbody tr th:only-of-type {\n",
       "        vertical-align: middle;\n",
       "    }\n",
       "\n",
       "    .dataframe tbody tr th {\n",
       "        vertical-align: top;\n",
       "    }\n",
       "\n",
       "    .dataframe thead th {\n",
       "        text-align: right;\n",
       "    }\n",
       "</style>\n",
       "<table border=\"1\" class=\"dataframe\">\n",
       "  <thead>\n",
       "    <tr style=\"text-align: right;\">\n",
       "      <th></th>\n",
       "      <th>Name</th>\n",
       "      <th>Team</th>\n",
       "      <th>Number</th>\n",
       "      <th>Position</th>\n",
       "      <th>Age</th>\n",
       "      <th>Height</th>\n",
       "      <th>Weight</th>\n",
       "      <th>College</th>\n",
       "      <th>Salary</th>\n",
       "    </tr>\n",
       "  </thead>\n",
       "  <tbody>\n",
       "    <tr>\n",
       "      <th>0</th>\n",
       "      <td>Avery Bradley</td>\n",
       "      <td>Boston Celtics</td>\n",
       "      <td>0.0</td>\n",
       "      <td>PG</td>\n",
       "      <td>25.0</td>\n",
       "      <td>6-2</td>\n",
       "      <td>180.0</td>\n",
       "      <td>Texas</td>\n",
       "      <td>7730337.0</td>\n",
       "    </tr>\n",
       "    <tr>\n",
       "      <th>1</th>\n",
       "      <td>Jae Crowder</td>\n",
       "      <td>Boston Celtics</td>\n",
       "      <td>99.0</td>\n",
       "      <td>SF</td>\n",
       "      <td>25.0</td>\n",
       "      <td>6-6</td>\n",
       "      <td>235.0</td>\n",
       "      <td>Marquette</td>\n",
       "      <td>6796117.0</td>\n",
       "    </tr>\n",
       "    <tr>\n",
       "      <th>2</th>\n",
       "      <td>John Holland</td>\n",
       "      <td>Boston Celtics</td>\n",
       "      <td>30.0</td>\n",
       "      <td>SG</td>\n",
       "      <td>27.0</td>\n",
       "      <td>6-5</td>\n",
       "      <td>205.0</td>\n",
       "      <td>Boston University</td>\n",
       "      <td>NaN</td>\n",
       "    </tr>\n",
       "    <tr>\n",
       "      <th>3</th>\n",
       "      <td>R.J. Hunter</td>\n",
       "      <td>Boston Celtics</td>\n",
       "      <td>28.0</td>\n",
       "      <td>SG</td>\n",
       "      <td>22.0</td>\n",
       "      <td>6-5</td>\n",
       "      <td>185.0</td>\n",
       "      <td>Georgia State</td>\n",
       "      <td>1148640.0</td>\n",
       "    </tr>\n",
       "    <tr>\n",
       "      <th>4</th>\n",
       "      <td>Jonas Jerebko</td>\n",
       "      <td>Boston Celtics</td>\n",
       "      <td>8.0</td>\n",
       "      <td>PF</td>\n",
       "      <td>29.0</td>\n",
       "      <td>6-10</td>\n",
       "      <td>231.0</td>\n",
       "      <td>NaN</td>\n",
       "      <td>5000000.0</td>\n",
       "    </tr>\n",
       "  </tbody>\n",
       "</table>\n",
       "</div>"
      ],
      "text/plain": [
       "            Name            Team  Number Position   Age Height  Weight  \\\n",
       "0  Avery Bradley  Boston Celtics     0.0       PG  25.0    6-2   180.0   \n",
       "1    Jae Crowder  Boston Celtics    99.0       SF  25.0    6-6   235.0   \n",
       "2   John Holland  Boston Celtics    30.0       SG  27.0    6-5   205.0   \n",
       "3    R.J. Hunter  Boston Celtics    28.0       SG  22.0    6-5   185.0   \n",
       "4  Jonas Jerebko  Boston Celtics     8.0       PF  29.0   6-10   231.0   \n",
       "\n",
       "             College     Salary  \n",
       "0              Texas  7730337.0  \n",
       "1          Marquette  6796117.0  \n",
       "2  Boston University        NaN  \n",
       "3      Georgia State  1148640.0  \n",
       "4                NaN  5000000.0  "
      ]
     },
     "execution_count": 22,
     "metadata": {},
     "output_type": "execute_result"
    }
   ],
   "source": [
    "data.head()"
   ]
  },
  {
   "cell_type": "code",
   "execution_count": 23,
   "id": "dd19f374",
   "metadata": {},
   "outputs": [
    {
     "data": {
      "text/plain": [
       "Name         1\n",
       "Team         1\n",
       "Number       1\n",
       "Position     1\n",
       "Age          1\n",
       "Height       1\n",
       "Weight       1\n",
       "College     85\n",
       "Salary      12\n",
       "dtype: int64"
      ]
     },
     "execution_count": 23,
     "metadata": {},
     "output_type": "execute_result"
    }
   ],
   "source": [
    "data.isna().sum()"
   ]
  },
  {
   "cell_type": "code",
   "execution_count": 24,
   "id": "a480fd78",
   "metadata": {},
   "outputs": [],
   "source": [
    "data['Salary'].fillna( method ='ffill',inplace = True)"
   ]
  },
  {
   "cell_type": "code",
   "execution_count": 25,
   "id": "085c27ff",
   "metadata": {},
   "outputs": [
    {
     "data": {
      "text/html": [
       "<div>\n",
       "<style scoped>\n",
       "    .dataframe tbody tr th:only-of-type {\n",
       "        vertical-align: middle;\n",
       "    }\n",
       "\n",
       "    .dataframe tbody tr th {\n",
       "        vertical-align: top;\n",
       "    }\n",
       "\n",
       "    .dataframe thead th {\n",
       "        text-align: right;\n",
       "    }\n",
       "</style>\n",
       "<table border=\"1\" class=\"dataframe\">\n",
       "  <thead>\n",
       "    <tr style=\"text-align: right;\">\n",
       "      <th></th>\n",
       "      <th>Name</th>\n",
       "      <th>Team</th>\n",
       "      <th>Number</th>\n",
       "      <th>Position</th>\n",
       "      <th>Age</th>\n",
       "      <th>Height</th>\n",
       "      <th>Weight</th>\n",
       "      <th>College</th>\n",
       "      <th>Salary</th>\n",
       "    </tr>\n",
       "  </thead>\n",
       "  <tbody>\n",
       "    <tr>\n",
       "      <th>0</th>\n",
       "      <td>Avery Bradley</td>\n",
       "      <td>Boston Celtics</td>\n",
       "      <td>0.0</td>\n",
       "      <td>PG</td>\n",
       "      <td>25.0</td>\n",
       "      <td>6-2</td>\n",
       "      <td>180.0</td>\n",
       "      <td>Texas</td>\n",
       "      <td>7730337.0</td>\n",
       "    </tr>\n",
       "    <tr>\n",
       "      <th>1</th>\n",
       "      <td>Jae Crowder</td>\n",
       "      <td>Boston Celtics</td>\n",
       "      <td>99.0</td>\n",
       "      <td>SF</td>\n",
       "      <td>25.0</td>\n",
       "      <td>6-6</td>\n",
       "      <td>235.0</td>\n",
       "      <td>Marquette</td>\n",
       "      <td>6796117.0</td>\n",
       "    </tr>\n",
       "    <tr>\n",
       "      <th>2</th>\n",
       "      <td>John Holland</td>\n",
       "      <td>Boston Celtics</td>\n",
       "      <td>30.0</td>\n",
       "      <td>SG</td>\n",
       "      <td>27.0</td>\n",
       "      <td>6-5</td>\n",
       "      <td>205.0</td>\n",
       "      <td>Boston University</td>\n",
       "      <td>6796117.0</td>\n",
       "    </tr>\n",
       "    <tr>\n",
       "      <th>3</th>\n",
       "      <td>R.J. Hunter</td>\n",
       "      <td>Boston Celtics</td>\n",
       "      <td>28.0</td>\n",
       "      <td>SG</td>\n",
       "      <td>22.0</td>\n",
       "      <td>6-5</td>\n",
       "      <td>185.0</td>\n",
       "      <td>Georgia State</td>\n",
       "      <td>1148640.0</td>\n",
       "    </tr>\n",
       "    <tr>\n",
       "      <th>4</th>\n",
       "      <td>Jonas Jerebko</td>\n",
       "      <td>Boston Celtics</td>\n",
       "      <td>8.0</td>\n",
       "      <td>PF</td>\n",
       "      <td>29.0</td>\n",
       "      <td>6-10</td>\n",
       "      <td>231.0</td>\n",
       "      <td>NaN</td>\n",
       "      <td>5000000.0</td>\n",
       "    </tr>\n",
       "    <tr>\n",
       "      <th>5</th>\n",
       "      <td>Amir Johnson</td>\n",
       "      <td>Boston Celtics</td>\n",
       "      <td>90.0</td>\n",
       "      <td>PF</td>\n",
       "      <td>29.0</td>\n",
       "      <td>6-9</td>\n",
       "      <td>240.0</td>\n",
       "      <td>NaN</td>\n",
       "      <td>12000000.0</td>\n",
       "    </tr>\n",
       "    <tr>\n",
       "      <th>6</th>\n",
       "      <td>Jordan Mickey</td>\n",
       "      <td>Boston Celtics</td>\n",
       "      <td>55.0</td>\n",
       "      <td>PF</td>\n",
       "      <td>21.0</td>\n",
       "      <td>6-8</td>\n",
       "      <td>235.0</td>\n",
       "      <td>LSU</td>\n",
       "      <td>1170960.0</td>\n",
       "    </tr>\n",
       "    <tr>\n",
       "      <th>7</th>\n",
       "      <td>Kelly Olynyk</td>\n",
       "      <td>Boston Celtics</td>\n",
       "      <td>41.0</td>\n",
       "      <td>C</td>\n",
       "      <td>25.0</td>\n",
       "      <td>7-0</td>\n",
       "      <td>238.0</td>\n",
       "      <td>Gonzaga</td>\n",
       "      <td>2165160.0</td>\n",
       "    </tr>\n",
       "    <tr>\n",
       "      <th>8</th>\n",
       "      <td>Terry Rozier</td>\n",
       "      <td>Boston Celtics</td>\n",
       "      <td>12.0</td>\n",
       "      <td>PG</td>\n",
       "      <td>22.0</td>\n",
       "      <td>6-2</td>\n",
       "      <td>190.0</td>\n",
       "      <td>Louisville</td>\n",
       "      <td>1824360.0</td>\n",
       "    </tr>\n",
       "    <tr>\n",
       "      <th>9</th>\n",
       "      <td>Marcus Smart</td>\n",
       "      <td>Boston Celtics</td>\n",
       "      <td>36.0</td>\n",
       "      <td>PG</td>\n",
       "      <td>22.0</td>\n",
       "      <td>6-4</td>\n",
       "      <td>220.0</td>\n",
       "      <td>Oklahoma State</td>\n",
       "      <td>3431040.0</td>\n",
       "    </tr>\n",
       "  </tbody>\n",
       "</table>\n",
       "</div>"
      ],
      "text/plain": [
       "            Name            Team  Number Position   Age Height  Weight  \\\n",
       "0  Avery Bradley  Boston Celtics     0.0       PG  25.0    6-2   180.0   \n",
       "1    Jae Crowder  Boston Celtics    99.0       SF  25.0    6-6   235.0   \n",
       "2   John Holland  Boston Celtics    30.0       SG  27.0    6-5   205.0   \n",
       "3    R.J. Hunter  Boston Celtics    28.0       SG  22.0    6-5   185.0   \n",
       "4  Jonas Jerebko  Boston Celtics     8.0       PF  29.0   6-10   231.0   \n",
       "5   Amir Johnson  Boston Celtics    90.0       PF  29.0    6-9   240.0   \n",
       "6  Jordan Mickey  Boston Celtics    55.0       PF  21.0    6-8   235.0   \n",
       "7   Kelly Olynyk  Boston Celtics    41.0        C  25.0    7-0   238.0   \n",
       "8   Terry Rozier  Boston Celtics    12.0       PG  22.0    6-2   190.0   \n",
       "9   Marcus Smart  Boston Celtics    36.0       PG  22.0    6-4   220.0   \n",
       "\n",
       "             College      Salary  \n",
       "0              Texas   7730337.0  \n",
       "1          Marquette   6796117.0  \n",
       "2  Boston University   6796117.0  \n",
       "3      Georgia State   1148640.0  \n",
       "4                NaN   5000000.0  \n",
       "5                NaN  12000000.0  \n",
       "6                LSU   1170960.0  \n",
       "7            Gonzaga   2165160.0  \n",
       "8         Louisville   1824360.0  \n",
       "9     Oklahoma State   3431040.0  "
      ]
     },
     "execution_count": 25,
     "metadata": {},
     "output_type": "execute_result"
    }
   ],
   "source": [
    "data.head(10)"
   ]
  },
  {
   "cell_type": "code",
   "execution_count": 26,
   "id": "c07de765",
   "metadata": {},
   "outputs": [],
   "source": [
    "data['College'].fillna( method ='bfill',inplace = True)"
   ]
  },
  {
   "cell_type": "markdown",
   "id": "29ee095d",
   "metadata": {},
   "source": [
    "# Simple Imputer\n",
    " It replaces the NaN values with a specified placeholder. \n",
    " \n",
    " missing_values : The missing_values placeholder which has to be imputed. By default is NaN \n",
    "strategy : The data which will replace the NaN values from the dataset. The strategy argument can take the values – ‘mean'(default), ‘median’, ‘most_frequent’ and ‘constant’. \n",
    "fill_value : The constant value to be given to the NaN data using the constant strategy. "
   ]
  },
  {
   "cell_type": "code",
   "execution_count": 27,
   "id": "67206d60",
   "metadata": {},
   "outputs": [],
   "source": [
    "from sklearn.impute import SimpleImputer\n",
    "imputer = SimpleImputer(strategy='mean', missing_values=np.nan)\n",
    "\n",
    "data['Salary'] = imputer.fit_transform(data[['Salary']])"
   ]
  },
  {
   "cell_type": "code",
   "execution_count": 28,
   "id": "2b6ec919",
   "metadata": {},
   "outputs": [
    {
     "data": {
      "text/html": [
       "<div>\n",
       "<style scoped>\n",
       "    .dataframe tbody tr th:only-of-type {\n",
       "        vertical-align: middle;\n",
       "    }\n",
       "\n",
       "    .dataframe tbody tr th {\n",
       "        vertical-align: top;\n",
       "    }\n",
       "\n",
       "    .dataframe thead th {\n",
       "        text-align: right;\n",
       "    }\n",
       "</style>\n",
       "<table border=\"1\" class=\"dataframe\">\n",
       "  <thead>\n",
       "    <tr style=\"text-align: right;\">\n",
       "      <th></th>\n",
       "      <th>Name</th>\n",
       "      <th>Team</th>\n",
       "      <th>Number</th>\n",
       "      <th>Position</th>\n",
       "      <th>Age</th>\n",
       "      <th>Height</th>\n",
       "      <th>Weight</th>\n",
       "      <th>College</th>\n",
       "      <th>Salary</th>\n",
       "    </tr>\n",
       "  </thead>\n",
       "  <tbody>\n",
       "    <tr>\n",
       "      <th>0</th>\n",
       "      <td>Avery Bradley</td>\n",
       "      <td>Boston Celtics</td>\n",
       "      <td>0.0</td>\n",
       "      <td>PG</td>\n",
       "      <td>25.0</td>\n",
       "      <td>6-2</td>\n",
       "      <td>180.0</td>\n",
       "      <td>Texas</td>\n",
       "      <td>7730337.0</td>\n",
       "    </tr>\n",
       "    <tr>\n",
       "      <th>1</th>\n",
       "      <td>Jae Crowder</td>\n",
       "      <td>Boston Celtics</td>\n",
       "      <td>99.0</td>\n",
       "      <td>SF</td>\n",
       "      <td>25.0</td>\n",
       "      <td>6-6</td>\n",
       "      <td>235.0</td>\n",
       "      <td>Marquette</td>\n",
       "      <td>6796117.0</td>\n",
       "    </tr>\n",
       "    <tr>\n",
       "      <th>2</th>\n",
       "      <td>John Holland</td>\n",
       "      <td>Boston Celtics</td>\n",
       "      <td>30.0</td>\n",
       "      <td>SG</td>\n",
       "      <td>27.0</td>\n",
       "      <td>6-5</td>\n",
       "      <td>205.0</td>\n",
       "      <td>Boston University</td>\n",
       "      <td>6796117.0</td>\n",
       "    </tr>\n",
       "    <tr>\n",
       "      <th>3</th>\n",
       "      <td>R.J. Hunter</td>\n",
       "      <td>Boston Celtics</td>\n",
       "      <td>28.0</td>\n",
       "      <td>SG</td>\n",
       "      <td>22.0</td>\n",
       "      <td>6-5</td>\n",
       "      <td>185.0</td>\n",
       "      <td>Georgia State</td>\n",
       "      <td>1148640.0</td>\n",
       "    </tr>\n",
       "    <tr>\n",
       "      <th>4</th>\n",
       "      <td>Jonas Jerebko</td>\n",
       "      <td>Boston Celtics</td>\n",
       "      <td>8.0</td>\n",
       "      <td>PF</td>\n",
       "      <td>29.0</td>\n",
       "      <td>6-10</td>\n",
       "      <td>231.0</td>\n",
       "      <td>LSU</td>\n",
       "      <td>5000000.0</td>\n",
       "    </tr>\n",
       "  </tbody>\n",
       "</table>\n",
       "</div>"
      ],
      "text/plain": [
       "            Name            Team  Number Position   Age Height  Weight  \\\n",
       "0  Avery Bradley  Boston Celtics     0.0       PG  25.0    6-2   180.0   \n",
       "1    Jae Crowder  Boston Celtics    99.0       SF  25.0    6-6   235.0   \n",
       "2   John Holland  Boston Celtics    30.0       SG  27.0    6-5   205.0   \n",
       "3    R.J. Hunter  Boston Celtics    28.0       SG  22.0    6-5   185.0   \n",
       "4  Jonas Jerebko  Boston Celtics     8.0       PF  29.0   6-10   231.0   \n",
       "\n",
       "             College     Salary  \n",
       "0              Texas  7730337.0  \n",
       "1          Marquette  6796117.0  \n",
       "2  Boston University  6796117.0  \n",
       "3      Georgia State  1148640.0  \n",
       "4                LSU  5000000.0  "
      ]
     },
     "execution_count": 28,
     "metadata": {},
     "output_type": "execute_result"
    }
   ],
   "source": [
    "data.head()"
   ]
  },
  {
   "cell_type": "code",
   "execution_count": 29,
   "id": "ca5ad03a",
   "metadata": {},
   "outputs": [],
   "source": [
    "imputer1 = SimpleImputer(strategy='most_frequent', missing_values=np.nan)\n",
    "data['College'] = imputer1.fit_transform(data[['College']])"
   ]
  },
  {
   "cell_type": "code",
   "execution_count": 30,
   "id": "627867ab",
   "metadata": {},
   "outputs": [
    {
     "data": {
      "text/html": [
       "<div>\n",
       "<style scoped>\n",
       "    .dataframe tbody tr th:only-of-type {\n",
       "        vertical-align: middle;\n",
       "    }\n",
       "\n",
       "    .dataframe tbody tr th {\n",
       "        vertical-align: top;\n",
       "    }\n",
       "\n",
       "    .dataframe thead th {\n",
       "        text-align: right;\n",
       "    }\n",
       "</style>\n",
       "<table border=\"1\" class=\"dataframe\">\n",
       "  <thead>\n",
       "    <tr style=\"text-align: right;\">\n",
       "      <th></th>\n",
       "      <th>Name</th>\n",
       "      <th>Team</th>\n",
       "      <th>Number</th>\n",
       "      <th>Position</th>\n",
       "      <th>Age</th>\n",
       "      <th>Height</th>\n",
       "      <th>Weight</th>\n",
       "      <th>College</th>\n",
       "      <th>Salary</th>\n",
       "    </tr>\n",
       "  </thead>\n",
       "  <tbody>\n",
       "    <tr>\n",
       "      <th>0</th>\n",
       "      <td>Avery Bradley</td>\n",
       "      <td>Boston Celtics</td>\n",
       "      <td>0.0</td>\n",
       "      <td>PG</td>\n",
       "      <td>25.0</td>\n",
       "      <td>6-2</td>\n",
       "      <td>180.0</td>\n",
       "      <td>Texas</td>\n",
       "      <td>7730337.0</td>\n",
       "    </tr>\n",
       "    <tr>\n",
       "      <th>1</th>\n",
       "      <td>Jae Crowder</td>\n",
       "      <td>Boston Celtics</td>\n",
       "      <td>99.0</td>\n",
       "      <td>SF</td>\n",
       "      <td>25.0</td>\n",
       "      <td>6-6</td>\n",
       "      <td>235.0</td>\n",
       "      <td>Marquette</td>\n",
       "      <td>6796117.0</td>\n",
       "    </tr>\n",
       "    <tr>\n",
       "      <th>2</th>\n",
       "      <td>John Holland</td>\n",
       "      <td>Boston Celtics</td>\n",
       "      <td>30.0</td>\n",
       "      <td>SG</td>\n",
       "      <td>27.0</td>\n",
       "      <td>6-5</td>\n",
       "      <td>205.0</td>\n",
       "      <td>Boston University</td>\n",
       "      <td>6796117.0</td>\n",
       "    </tr>\n",
       "    <tr>\n",
       "      <th>3</th>\n",
       "      <td>R.J. Hunter</td>\n",
       "      <td>Boston Celtics</td>\n",
       "      <td>28.0</td>\n",
       "      <td>SG</td>\n",
       "      <td>22.0</td>\n",
       "      <td>6-5</td>\n",
       "      <td>185.0</td>\n",
       "      <td>Georgia State</td>\n",
       "      <td>1148640.0</td>\n",
       "    </tr>\n",
       "    <tr>\n",
       "      <th>4</th>\n",
       "      <td>Jonas Jerebko</td>\n",
       "      <td>Boston Celtics</td>\n",
       "      <td>8.0</td>\n",
       "      <td>PF</td>\n",
       "      <td>29.0</td>\n",
       "      <td>6-10</td>\n",
       "      <td>231.0</td>\n",
       "      <td>LSU</td>\n",
       "      <td>5000000.0</td>\n",
       "    </tr>\n",
       "  </tbody>\n",
       "</table>\n",
       "</div>"
      ],
      "text/plain": [
       "            Name            Team  Number Position   Age Height  Weight  \\\n",
       "0  Avery Bradley  Boston Celtics     0.0       PG  25.0    6-2   180.0   \n",
       "1    Jae Crowder  Boston Celtics    99.0       SF  25.0    6-6   235.0   \n",
       "2   John Holland  Boston Celtics    30.0       SG  27.0    6-5   205.0   \n",
       "3    R.J. Hunter  Boston Celtics    28.0       SG  22.0    6-5   185.0   \n",
       "4  Jonas Jerebko  Boston Celtics     8.0       PF  29.0   6-10   231.0   \n",
       "\n",
       "             College     Salary  \n",
       "0              Texas  7730337.0  \n",
       "1          Marquette  6796117.0  \n",
       "2  Boston University  6796117.0  \n",
       "3      Georgia State  1148640.0  \n",
       "4                LSU  5000000.0  "
      ]
     },
     "execution_count": 30,
     "metadata": {},
     "output_type": "execute_result"
    }
   ],
   "source": [
    "data.head()"
   ]
  },
  {
   "cell_type": "code",
   "execution_count": 31,
   "id": "b63fd3a1",
   "metadata": {},
   "outputs": [
    {
     "data": {
      "text/plain": [
       "array(['Private', 'Local-gov', nan, 'Self-emp-not-inc', 'Federal-gov',\n",
       "       'State-gov', 'Self-emp-inc', 'Without-pay', 'Never-worked'],\n",
       "      dtype=object)"
      ]
     },
     "execution_count": 31,
     "metadata": {},
     "output_type": "execute_result"
    }
   ],
   "source": [
    "df['workclass'].unique()"
   ]
  },
  {
   "cell_type": "code",
   "execution_count": 32,
   "id": "c838b332",
   "metadata": {},
   "outputs": [],
   "source": [
    "from sklearn.impute import SimpleImputer\n",
    "imp = SimpleImputer(strategy='most_frequent', missing_values=np.nan)\n",
    "df['workclass'] = imp.fit_transform(df[['workclass']])\n",
    "df['occupation'] = imp.fit_transform(df[['occupation']])\n",
    "df['native-country'] = imp.fit_transform(df[['native-country']])"
   ]
  },
  {
   "cell_type": "code",
   "execution_count": 33,
   "id": "dad76c3e",
   "metadata": {},
   "outputs": [
    {
     "data": {
      "text/plain": [
       "age                0\n",
       "workclass          0\n",
       "fnlwgt             0\n",
       "education          0\n",
       "educational-num    0\n",
       "marital-status     0\n",
       "occupation         0\n",
       "relationship       0\n",
       "race               0\n",
       "gender             0\n",
       "capital-gain       0\n",
       "capital-loss       0\n",
       "hours-per-week     0\n",
       "native-country     0\n",
       "income             0\n",
       "dtype: int64"
      ]
     },
     "execution_count": 33,
     "metadata": {},
     "output_type": "execute_result"
    }
   ],
   "source": [
    "df.isna().sum()"
   ]
  },
  {
   "cell_type": "code",
   "execution_count": 34,
   "id": "524b5378",
   "metadata": {},
   "outputs": [
    {
     "data": {
      "text/html": [
       "<div>\n",
       "<style scoped>\n",
       "    .dataframe tbody tr th:only-of-type {\n",
       "        vertical-align: middle;\n",
       "    }\n",
       "\n",
       "    .dataframe tbody tr th {\n",
       "        vertical-align: top;\n",
       "    }\n",
       "\n",
       "    .dataframe thead th {\n",
       "        text-align: right;\n",
       "    }\n",
       "</style>\n",
       "<table border=\"1\" class=\"dataframe\">\n",
       "  <thead>\n",
       "    <tr style=\"text-align: right;\">\n",
       "      <th></th>\n",
       "      <th>age</th>\n",
       "      <th>workclass</th>\n",
       "      <th>fnlwgt</th>\n",
       "      <th>education</th>\n",
       "      <th>educational-num</th>\n",
       "      <th>marital-status</th>\n",
       "      <th>occupation</th>\n",
       "      <th>relationship</th>\n",
       "      <th>race</th>\n",
       "      <th>gender</th>\n",
       "      <th>capital-gain</th>\n",
       "      <th>capital-loss</th>\n",
       "      <th>hours-per-week</th>\n",
       "      <th>native-country</th>\n",
       "      <th>income</th>\n",
       "    </tr>\n",
       "  </thead>\n",
       "  <tbody>\n",
       "    <tr>\n",
       "      <th>0</th>\n",
       "      <td>25</td>\n",
       "      <td>Private</td>\n",
       "      <td>226802</td>\n",
       "      <td>11th</td>\n",
       "      <td>7</td>\n",
       "      <td>Never-married</td>\n",
       "      <td>Machine-op-inspct</td>\n",
       "      <td>Own-child</td>\n",
       "      <td>Black</td>\n",
       "      <td>Male</td>\n",
       "      <td>0</td>\n",
       "      <td>0</td>\n",
       "      <td>40</td>\n",
       "      <td>United-States</td>\n",
       "      <td>&lt;=50K</td>\n",
       "    </tr>\n",
       "    <tr>\n",
       "      <th>1</th>\n",
       "      <td>38</td>\n",
       "      <td>Private</td>\n",
       "      <td>89814</td>\n",
       "      <td>HS-grad</td>\n",
       "      <td>9</td>\n",
       "      <td>Married-civ-spouse</td>\n",
       "      <td>Farming-fishing</td>\n",
       "      <td>Husband</td>\n",
       "      <td>White</td>\n",
       "      <td>Male</td>\n",
       "      <td>0</td>\n",
       "      <td>0</td>\n",
       "      <td>50</td>\n",
       "      <td>United-States</td>\n",
       "      <td>&lt;=50K</td>\n",
       "    </tr>\n",
       "    <tr>\n",
       "      <th>2</th>\n",
       "      <td>28</td>\n",
       "      <td>Local-gov</td>\n",
       "      <td>336951</td>\n",
       "      <td>Assoc-acdm</td>\n",
       "      <td>12</td>\n",
       "      <td>Married-civ-spouse</td>\n",
       "      <td>Protective-serv</td>\n",
       "      <td>Husband</td>\n",
       "      <td>White</td>\n",
       "      <td>Male</td>\n",
       "      <td>0</td>\n",
       "      <td>0</td>\n",
       "      <td>40</td>\n",
       "      <td>United-States</td>\n",
       "      <td>&gt;50K</td>\n",
       "    </tr>\n",
       "    <tr>\n",
       "      <th>3</th>\n",
       "      <td>44</td>\n",
       "      <td>Private</td>\n",
       "      <td>160323</td>\n",
       "      <td>Some-college</td>\n",
       "      <td>10</td>\n",
       "      <td>Married-civ-spouse</td>\n",
       "      <td>Machine-op-inspct</td>\n",
       "      <td>Husband</td>\n",
       "      <td>Black</td>\n",
       "      <td>Male</td>\n",
       "      <td>7688</td>\n",
       "      <td>0</td>\n",
       "      <td>40</td>\n",
       "      <td>United-States</td>\n",
       "      <td>&gt;50K</td>\n",
       "    </tr>\n",
       "    <tr>\n",
       "      <th>4</th>\n",
       "      <td>18</td>\n",
       "      <td>Private</td>\n",
       "      <td>103497</td>\n",
       "      <td>Some-college</td>\n",
       "      <td>10</td>\n",
       "      <td>Never-married</td>\n",
       "      <td>Prof-specialty</td>\n",
       "      <td>Own-child</td>\n",
       "      <td>White</td>\n",
       "      <td>Female</td>\n",
       "      <td>0</td>\n",
       "      <td>0</td>\n",
       "      <td>30</td>\n",
       "      <td>United-States</td>\n",
       "      <td>&lt;=50K</td>\n",
       "    </tr>\n",
       "    <tr>\n",
       "      <th>...</th>\n",
       "      <td>...</td>\n",
       "      <td>...</td>\n",
       "      <td>...</td>\n",
       "      <td>...</td>\n",
       "      <td>...</td>\n",
       "      <td>...</td>\n",
       "      <td>...</td>\n",
       "      <td>...</td>\n",
       "      <td>...</td>\n",
       "      <td>...</td>\n",
       "      <td>...</td>\n",
       "      <td>...</td>\n",
       "      <td>...</td>\n",
       "      <td>...</td>\n",
       "      <td>...</td>\n",
       "    </tr>\n",
       "    <tr>\n",
       "      <th>48837</th>\n",
       "      <td>27</td>\n",
       "      <td>Private</td>\n",
       "      <td>257302</td>\n",
       "      <td>Assoc-acdm</td>\n",
       "      <td>12</td>\n",
       "      <td>Married-civ-spouse</td>\n",
       "      <td>Tech-support</td>\n",
       "      <td>Wife</td>\n",
       "      <td>White</td>\n",
       "      <td>Female</td>\n",
       "      <td>0</td>\n",
       "      <td>0</td>\n",
       "      <td>38</td>\n",
       "      <td>United-States</td>\n",
       "      <td>&lt;=50K</td>\n",
       "    </tr>\n",
       "    <tr>\n",
       "      <th>48838</th>\n",
       "      <td>40</td>\n",
       "      <td>Private</td>\n",
       "      <td>154374</td>\n",
       "      <td>HS-grad</td>\n",
       "      <td>9</td>\n",
       "      <td>Married-civ-spouse</td>\n",
       "      <td>Machine-op-inspct</td>\n",
       "      <td>Husband</td>\n",
       "      <td>White</td>\n",
       "      <td>Male</td>\n",
       "      <td>0</td>\n",
       "      <td>0</td>\n",
       "      <td>40</td>\n",
       "      <td>United-States</td>\n",
       "      <td>&gt;50K</td>\n",
       "    </tr>\n",
       "    <tr>\n",
       "      <th>48839</th>\n",
       "      <td>58</td>\n",
       "      <td>Private</td>\n",
       "      <td>151910</td>\n",
       "      <td>HS-grad</td>\n",
       "      <td>9</td>\n",
       "      <td>Widowed</td>\n",
       "      <td>Adm-clerical</td>\n",
       "      <td>Unmarried</td>\n",
       "      <td>White</td>\n",
       "      <td>Female</td>\n",
       "      <td>0</td>\n",
       "      <td>0</td>\n",
       "      <td>40</td>\n",
       "      <td>United-States</td>\n",
       "      <td>&lt;=50K</td>\n",
       "    </tr>\n",
       "    <tr>\n",
       "      <th>48840</th>\n",
       "      <td>22</td>\n",
       "      <td>Private</td>\n",
       "      <td>201490</td>\n",
       "      <td>HS-grad</td>\n",
       "      <td>9</td>\n",
       "      <td>Never-married</td>\n",
       "      <td>Adm-clerical</td>\n",
       "      <td>Own-child</td>\n",
       "      <td>White</td>\n",
       "      <td>Male</td>\n",
       "      <td>0</td>\n",
       "      <td>0</td>\n",
       "      <td>20</td>\n",
       "      <td>United-States</td>\n",
       "      <td>&lt;=50K</td>\n",
       "    </tr>\n",
       "    <tr>\n",
       "      <th>48841</th>\n",
       "      <td>52</td>\n",
       "      <td>Self-emp-inc</td>\n",
       "      <td>287927</td>\n",
       "      <td>HS-grad</td>\n",
       "      <td>9</td>\n",
       "      <td>Married-civ-spouse</td>\n",
       "      <td>Exec-managerial</td>\n",
       "      <td>Wife</td>\n",
       "      <td>White</td>\n",
       "      <td>Female</td>\n",
       "      <td>15024</td>\n",
       "      <td>0</td>\n",
       "      <td>40</td>\n",
       "      <td>United-States</td>\n",
       "      <td>&gt;50K</td>\n",
       "    </tr>\n",
       "  </tbody>\n",
       "</table>\n",
       "<p>48790 rows × 15 columns</p>\n",
       "</div>"
      ],
      "text/plain": [
       "       age     workclass  fnlwgt     education  educational-num  \\\n",
       "0       25       Private  226802          11th                7   \n",
       "1       38       Private   89814       HS-grad                9   \n",
       "2       28     Local-gov  336951    Assoc-acdm               12   \n",
       "3       44       Private  160323  Some-college               10   \n",
       "4       18       Private  103497  Some-college               10   \n",
       "...    ...           ...     ...           ...              ...   \n",
       "48837   27       Private  257302    Assoc-acdm               12   \n",
       "48838   40       Private  154374       HS-grad                9   \n",
       "48839   58       Private  151910       HS-grad                9   \n",
       "48840   22       Private  201490       HS-grad                9   \n",
       "48841   52  Self-emp-inc  287927       HS-grad                9   \n",
       "\n",
       "           marital-status         occupation relationship   race  gender  \\\n",
       "0           Never-married  Machine-op-inspct    Own-child  Black    Male   \n",
       "1      Married-civ-spouse    Farming-fishing      Husband  White    Male   \n",
       "2      Married-civ-spouse    Protective-serv      Husband  White    Male   \n",
       "3      Married-civ-spouse  Machine-op-inspct      Husband  Black    Male   \n",
       "4           Never-married     Prof-specialty    Own-child  White  Female   \n",
       "...                   ...                ...          ...    ...     ...   \n",
       "48837  Married-civ-spouse       Tech-support         Wife  White  Female   \n",
       "48838  Married-civ-spouse  Machine-op-inspct      Husband  White    Male   \n",
       "48839             Widowed       Adm-clerical    Unmarried  White  Female   \n",
       "48840       Never-married       Adm-clerical    Own-child  White    Male   \n",
       "48841  Married-civ-spouse    Exec-managerial         Wife  White  Female   \n",
       "\n",
       "       capital-gain  capital-loss  hours-per-week native-country income  \n",
       "0                 0             0              40  United-States  <=50K  \n",
       "1                 0             0              50  United-States  <=50K  \n",
       "2                 0             0              40  United-States   >50K  \n",
       "3              7688             0              40  United-States   >50K  \n",
       "4                 0             0              30  United-States  <=50K  \n",
       "...             ...           ...             ...            ...    ...  \n",
       "48837             0             0              38  United-States  <=50K  \n",
       "48838             0             0              40  United-States   >50K  \n",
       "48839             0             0              40  United-States  <=50K  \n",
       "48840             0             0              20  United-States  <=50K  \n",
       "48841         15024             0              40  United-States   >50K  \n",
       "\n",
       "[48790 rows x 15 columns]"
      ]
     },
     "execution_count": 34,
     "metadata": {},
     "output_type": "execute_result"
    }
   ],
   "source": [
    "df"
   ]
  },
  {
   "cell_type": "markdown",
   "id": "b230fed7",
   "metadata": {},
   "source": [
    "# Outlier Detection\n",
    "1. Using Boxplot\n",
    "2. Using Scatter plot\n",
    "3. Using Z score\n",
    "4. Using Inter Quartile Range"
   ]
  },
  {
   "cell_type": "code",
   "execution_count": 35,
   "id": "5aea41a1",
   "metadata": {},
   "outputs": [
    {
     "name": "stderr",
     "output_type": "stream",
     "text": [
      "/Users/nageshjadhav/opt/anaconda3/envs/ISII_Lab/lib/python3.9/site-packages/seaborn/_decorators.py:36: FutureWarning: Pass the following variable as a keyword arg: x. From version 0.12, the only valid positional argument will be `data`, and passing other arguments without an explicit keyword will result in an error or misinterpretation.\n",
      "  warnings.warn(\n"
     ]
    },
    {
     "data": {
      "text/plain": [
       "<AxesSubplot:xlabel='Weight'>"
      ]
     },
     "execution_count": 35,
     "metadata": {},
     "output_type": "execute_result"
    },
    {
     "data": {
      "image/png": "[encoded data removed]",
      "text/plain": [
       "<Figure size 432x288 with 1 Axes>"
      ]
     },
     "metadata": {
      "needs_background": "light"
     },
     "output_type": "display_data"
    }
   ],
   "source": [
    "# Using Boxplot\n",
    "import seaborn as sns\n",
    "sns.boxplot(data['Weight'])"
   ]
  },
  {
   "cell_type": "code",
   "execution_count": 36,
   "id": "be2dafcb",
   "metadata": {},
   "outputs": [
    {
     "name": "stdout",
     "output_type": "stream",
     "text": [
      "(array([405]),)\n"
     ]
    }
   ],
   "source": [
    "print(np.where(data['Weight']>290))"
   ]
  },
  {
   "cell_type": "code",
   "execution_count": 37,
   "id": "8800a670",
   "metadata": {},
   "outputs": [
    {
     "name": "stderr",
     "output_type": "stream",
     "text": [
      "/Users/nageshjadhav/opt/anaconda3/envs/ISII_Lab/lib/python3.9/site-packages/seaborn/_decorators.py:36: FutureWarning: Pass the following variable as a keyword arg: x. From version 0.12, the only valid positional argument will be `data`, and passing other arguments without an explicit keyword will result in an error or misinterpretation.\n",
      "  warnings.warn(\n"
     ]
    },
    {
     "data": {
      "text/plain": [
       "<AxesSubplot:xlabel='age'>"
      ]
     },
     "execution_count": 37,
     "metadata": {},
     "output_type": "execute_result"
    },
    {
     "data": {
      "image/png": "[encoded data removed]",
      "text/plain": [
       "<Figure size 432x288 with 1 Axes>"
      ]
     },
     "metadata": {
      "needs_background": "light"
     },
     "output_type": "display_data"
    }
   ],
   "source": [
    "sns.boxplot(df['age'])"
   ]
  },
  {
   "cell_type": "code",
   "execution_count": 38,
   "id": "e5f41b15",
   "metadata": {},
   "outputs": [
    {
     "name": "stdout",
     "output_type": "stream",
     "text": [
      "[25 38 28 44 18 34 29 63 24 55 65 36 26 58 48 43 20 37 40 72 45 22 23 54\n",
      " 32 46 56 17 39 52 21 42 33 30 47 41 19 69 50 31 59 49 51 27 57 61 64 79\n",
      " 73 53 77 80 62 35 68 66 75 60 67 71 70 90 81 74 78 82 83 85 76 84 89 88\n",
      " 87 86]\n"
     ]
    }
   ],
   "source": [
    "print(df['age'].unique())"
   ]
  },
  {
   "cell_type": "code",
   "execution_count": 39,
   "id": "4a190cd0",
   "metadata": {},
   "outputs": [
    {
     "data": {
      "text/plain": [
       "(array([  193,   234,   898,   925,   950,  1078,  1397,  1833,  2084,\n",
       "         2289,  2981,  3495,  3667,  4454,  4645,  4657,  6401,  6576,\n",
       "         6756,  6914,  6958,  6975,  6978,  7159,  7169,  7413,  7418,\n",
       "         7538,  7546,  7936,  8205,  8312,  8426,  8954,  8981,  9017,\n",
       "         9037,  9080,  9278,  9768,  9887, 10038, 10198, 10222, 10734,\n",
       "        11286, 11325, 11407, 11834, 11868, 11878, 11937, 12057, 12226,\n",
       "        12443, 13022, 13954, 14029, 14259, 14295, 14427, 14564, 14587,\n",
       "        14736, 15084, 15094, 15404, 15930, 15958, 15998, 16101, 16143,\n",
       "        16246, 16350, 16498, 16706, 17194, 17316, 17444, 18211, 18578,\n",
       "        19029, 19166, 19181, 19485, 19612, 19810, 20050, 20236, 20343,\n",
       "        20382, 20992, 21106, 21542, 21561, 21640, 21676, 22270, 22443,\n",
       "        22484, 22502, 22709, 22894, 23018, 23751, 23990, 24142, 24445,\n",
       "        24650, 24700, 24791, 24963, 25075, 25231, 25241, 25737, 26388,\n",
       "        26474, 26809, 27363, 27502, 27776, 27796, 27994, 28259, 28714,\n",
       "        28755, 29093, 29238, 29288, 29289, 29557, 29958, 30190, 30366,\n",
       "        30421, 30865, 30971, 31016, 31163, 31615, 31921, 32151, 32561,\n",
       "        32782, 33021, 33160, 33867, 34294, 34398, 34529, 34534, 34670,\n",
       "        34816, 34980, 35087, 35300, 35427, 35435, 35467, 35744, 35750,\n",
       "        35770, 35943, 36001, 36082, 36503, 36675, 36717, 36736, 36737,\n",
       "        36862, 37078, 37132, 37205, 37594, 37751, 38062, 38085, 38468,\n",
       "        38726, 39139, 39142, 39703, 40144, 40271, 40287, 40482, 40524,\n",
       "        40639, 40804, 41406, 41546, 41640, 42253, 42483, 42971, 44035,\n",
       "        44415, 44701, 44958, 45184, 45829, 45959, 47261, 47663, 47927,\n",
       "        48045, 48067, 48086, 48507, 48597, 48688, 48723, 48754]),)"
      ]
     },
     "execution_count": 39,
     "metadata": {},
     "output_type": "execute_result"
    }
   ],
   "source": [
    "np.where(df['age'] > 78)\n",
    "#c = np.where(df['age'] > 80)\n",
    "#t = c[0]\n",
    "#p = []\n",
    "#for i in t:\n",
    " #   p.append(df.age[i])\n",
    "  #  print(p)"
   ]
  },
  {
   "cell_type": "code",
   "execution_count": 40,
   "id": "a34539b8",
   "metadata": {},
   "outputs": [
    {
     "name": "stdout",
     "output_type": "stream",
     "text": [
      "79\n"
     ]
    }
   ],
   "source": [
    "print(df.age[193])"
   ]
  },
  {
   "cell_type": "code",
   "execution_count": 41,
   "id": "69536336",
   "metadata": {},
   "outputs": [
    {
     "name": "stdout",
     "output_type": "stream",
     "text": [
      "20.0\n"
     ]
    }
   ],
   "source": [
    "sorted_df = df.sort_values(by=['age'], ascending=True)\n",
    "Q1 = np.percentile(sorted_df['age'], 25)\n",
    "Q3 = np.percentile(sorted_df['age'], 75)\n",
    "IQR = Q3 - Q1\n",
    "print(IQR)"
   ]
  },
  {
   "cell_type": "code",
   "execution_count": 42,
   "id": "670019a7",
   "metadata": {},
   "outputs": [
    {
     "name": "stdout",
     "output_type": "stream",
     "text": [
      "-2.0 78.0\n"
     ]
    }
   ],
   "source": [
    "lwr_bound = Q1-(1.5*IQR)\n",
    "upr_bound = Q3+(1.5*IQR)\n",
    "print(lwr_bound, upr_bound)"
   ]
  },
  {
   "cell_type": "code",
   "execution_count": 43,
   "id": "9e770950",
   "metadata": {},
   "outputs": [
    {
     "name": "stdout",
     "output_type": "stream",
     "text": [
      "[79, 80, 90, 79, 80, 81, 82, 83, 81, 85, 80, 90, 81, 84, 81, 89, 81, 83, 81, 82, 80, 90, 81, 83, 80, 90, 90, 84, 80, 80, 80, 81, 90, 85, 90, 81, 81, 80, 80, 79, 81, 80, 88, 87, 90, 79, 83, 79, 80, 90, 79, 79, 81, 81, 90, 82, 90, 87, 81, 88, 80, 81, 80, 81, 90, 88, 89, 84, 80, 80, 83, 79, 81, 79, 90, 80, 81, 90, 88, 90, 90, 80, 90, 81, 82, 79, 81, 80, 83, 90, 90, 79, 81, 90, 80, 90, 90, 79, 79, 84, 90, 80, 90, 81, 83, 84, 81, 79, 85, 82, 79, 80, 90, 90, 90, 84, 80, 90, 90, 79, 84, 90, 79, 90, 90, 90, 82, 81, 90, 84, 79, 81, 82, 81, 80, 90, 80, 84, 82, 79, 90, 84, 90, 83, 79, 81, 80, 79, 80, 79, 80, 90, 90, 80, 90, 90, 81, 83, 82, 90, 90, 81, 80, 80, 90, 79, 80, 82, 85, 80, 79, 90, 81, 79, 80, 79, 81, 82, 88, 90, 82, 88, 84, 83, 79, 86, 90, 90, 82, 83, 81, 79, 90, 80, 81, 79, 84, 84, 79, 90, 80, 81, 81, 81, 90, 87, 90, 80, 80, 82, 90, 90, 85, 82, 81]\n",
      "215\n"
     ]
    }
   ],
   "source": [
    "outliers = []\n",
    "for i in df['age']: \n",
    "        if (i<lwr_bound or i>upr_bound):\n",
    "            outliers.append(i)\n",
    "\n",
    "print(outliers)\n",
    "print(len(outliers))"
   ]
  },
  {
   "cell_type": "markdown",
   "id": "a5be4444",
   "metadata": {},
   "source": [
    "# Handling Outliers\n",
    "1. Trimming/Remove the outliers\n",
    "2. Quantile based flooring and capping\n",
    "3. Mean/Median imputation"
   ]
  },
  {
   "cell_type": "code",
   "execution_count": 44,
   "id": "be69a759",
   "metadata": {},
   "outputs": [
    {
     "name": "stdout",
     "output_type": "stream",
     "text": [
      "37.0\n",
      "New array:  [25 38 28 ... 58 22 52]\n",
      "(48790,)\n"
     ]
    }
   ],
   "source": [
    "median = np.median(df['age'])# Replace with median\n",
    "print(median)\n",
    "\n",
    "for i in outliers:\n",
    "    c = np.where(df['age']==i, 37, df['age'])\n",
    "print(\"New array: \",c)\n",
    "print(c.shape)"
   ]
  },
  {
   "cell_type": "code",
   "execution_count": 45,
   "id": "a73b19de",
   "metadata": {},
   "outputs": [
    {
     "data": {
      "text/plain": [
       "<=50K    37109\n",
       ">50K     11681\n",
       "Name: income, dtype: int64"
      ]
     },
     "execution_count": 45,
     "metadata": {},
     "output_type": "execute_result"
    }
   ],
   "source": [
    "df['income'].value_counts()"
   ]
  },
  {
   "cell_type": "code",
   "execution_count": 46,
   "id": "77f99da7",
   "metadata": {},
   "outputs": [
    {
     "name": "stderr",
     "output_type": "stream",
     "text": [
      "/Users/nageshjadhav/opt/anaconda3/envs/ISII_Lab/lib/python3.9/site-packages/seaborn/_decorators.py:36: FutureWarning: Pass the following variable as a keyword arg: x. From version 0.12, the only valid positional argument will be `data`, and passing other arguments without an explicit keyword will result in an error or misinterpretation.\n",
      "  warnings.warn(\n"
     ]
    },
    {
     "data": {
      "text/plain": [
       "<AxesSubplot:xlabel='income', ylabel='count'>"
      ]
     },
     "execution_count": 46,
     "metadata": {},
     "output_type": "execute_result"
    },
    {
     "data": {
      "image/png": "[encoded data removed]",
      "text/plain": [
       "<Figure size 432x288 with 1 Axes>"
      ]
     },
     "metadata": {
      "needs_background": "light"
     },
     "output_type": "display_data"
    }
   ],
   "source": [
    "sns.countplot(df['income'])"
   ]
  },
  {
   "cell_type": "code",
   "execution_count": null,
   "id": "741ce358",
   "metadata": {},
   "outputs": [],
   "source": []
  },
  {
   "cell_type": "markdown",
   "id": "4c93508a",
   "metadata": {},
   "source": [
    "# Handling Categorical Data\n",
    "\n",
    "1. Replacing values\n",
    "2. Encoding labels\n",
    "3. One-Hot encoding\n"
   ]
  },
  {
   "cell_type": "code",
   "execution_count": 47,
   "id": "3a41d0e8",
   "metadata": {},
   "outputs": [
    {
     "name": "stdout",
     "output_type": "stream",
     "text": [
      "['Male' 'Female']\n"
     ]
    }
   ],
   "source": [
    "print(df['gender'].unique())"
   ]
  },
  {
   "cell_type": "code",
   "execution_count": 48,
   "id": "38311a13",
   "metadata": {},
   "outputs": [],
   "source": [
    "df['gender'] = df['gender'].replace('Male',1)\n",
    "df['gender'] = df['gender'].replace('Female',0)"
   ]
  },
  {
   "cell_type": "code",
   "execution_count": 49,
   "id": "11445d49",
   "metadata": {},
   "outputs": [
    {
     "data": {
      "text/plain": [
       "array(['<=50K', '>50K'], dtype=object)"
      ]
     },
     "execution_count": 49,
     "metadata": {},
     "output_type": "execute_result"
    }
   ],
   "source": [
    "df['income'].unique()"
   ]
  },
  {
   "cell_type": "code",
   "execution_count": 50,
   "id": "caa36655",
   "metadata": {},
   "outputs": [],
   "source": [
    "df['marital-status'] = df['marital-status'].str.replace('Never-married', 'NotMarried')\n",
    "df['marital-status'] = df['marital-status'].str.replace('Married-AF-spouse', 'Married')\n",
    "df['marital-status'] = df['marital-status'].str.replace('Married-civ-spouse', 'Married')\n",
    "df['marital-status'] = df['marital-status'].str.replace('Married-spouse-absent', 'NotMarried')\n",
    "df['marital-status'] = df['marital-status'].str.replace('Separated', 'Separated')\n",
    "df['marital-status'] = df['marital-status'].str.replace('Divorced', 'Separated')\n",
    "df['marital-status'] = df['marital-status'].str.replace('Widowed', 'Widowed')"
   ]
  },
  {
   "cell_type": "code",
   "execution_count": 51,
   "id": "01c703f2",
   "metadata": {},
   "outputs": [
    {
     "name": "stdout",
     "output_type": "stream",
     "text": [
      "[0 1]\n"
     ]
    }
   ],
   "source": [
    "from sklearn.preprocessing import LabelEncoder\n",
    "\n",
    "le = LabelEncoder()\n",
    "df['income'] = le.fit_transform(df['income'])\n",
    "df['race'] = le.fit_transform(df['race'])\n",
    "df['marital-status'] = le.fit_transform(df['marital-status'])\n",
    "df['workclass'] = le.fit_transform(df['workclass'])\n",
    "df['occupation'] = le.fit_transform(df['occupation'])\n",
    "df['relationship'] = le.fit_transform(df['relationship'])\n",
    "df['native-country'] = le.fit_transform(df['native-country'])\n",
    "print(df['income'].unique())"
   ]
  },
  {
   "cell_type": "code",
   "execution_count": 52,
   "id": "dbfd4f5a",
   "metadata": {},
   "outputs": [
    {
     "data": {
      "text/plain": [
       "array(['11th', 'HS-grad', 'Assoc-acdm', 'Some-college', '10th',\n",
       "       'Prof-school', '7th-8th', 'Bachelors', 'Masters', 'Doctorate',\n",
       "       '5th-6th', 'Assoc-voc', '9th', '12th', '1st-4th', 'Preschool'],\n",
       "      dtype=object)"
      ]
     },
     "execution_count": 52,
     "metadata": {},
     "output_type": "execute_result"
    }
   ],
   "source": [
    "df['education'].unique()"
   ]
  },
  {
   "cell_type": "code",
   "execution_count": 53,
   "id": "83e62624",
   "metadata": {},
   "outputs": [],
   "source": [
    "df['education'] = df['education'].replace('Preschool', 'dropout')\n",
    "df['education'] = df['education'].replace('10th', 'dropout')\n",
    "df['education'] = df['education'].replace('11th', 'dropout')\n",
    "df['education'] = df['education'].replace('12th', 'dropout')\n",
    "df['education'] = df['education'].replace('1st-4th', 'dropout')\n",
    "df['education'] = df['education'].replace('5th-6th', 'dropout')\n",
    "df['education'] = df['education'].replace('7th-8th', 'dropout')\n",
    "df['education'] = df['education'].replace('9th', 'dropout')\n",
    "df['education'] = df['education'].replace('HS-Grad', 'HighGrad')\n",
    "df['education'] = df['education'].replace('HS-grad', 'HighGrad')\n",
    "df['education'] = df['education'].replace('Some-college', 'CommunityCollege')\n",
    "df['education'] = df['education'].replace('Assoc-acdm', 'CommunityCollege')\n",
    "df['education'] = df['education'].replace('Assoc-voc', 'CommunityCollege')\n",
    "df['education'] = df['education'].replace('Bachelors', 'Bachelors')\n",
    "df['education'] = df['education'].replace('Masters', 'Masters')\n",
    "df['education'] = df['education'].replace('Prof-school', 'Masters')\n",
    "df['education'] = df['education'].replace('Doctorate', 'Doctorate')"
   ]
  },
  {
   "cell_type": "code",
   "execution_count": 54,
   "id": "e38ac367",
   "metadata": {},
   "outputs": [
    {
     "data": {
      "text/plain": [
       "array(['dropout', 'HighGrad', 'CommunityCollege', 'Masters', 'Bachelors',\n",
       "       'Doctorate'], dtype=object)"
      ]
     },
     "execution_count": 54,
     "metadata": {},
     "output_type": "execute_result"
    }
   ],
   "source": [
    "df['education'].unique()"
   ]
  },
  {
   "cell_type": "code",
   "execution_count": 55,
   "id": "f5e44671",
   "metadata": {},
   "outputs": [
    {
     "data": {
      "text/plain": [
       "array([5, 3, 1, 4, 0, 2])"
      ]
     },
     "execution_count": 55,
     "metadata": {},
     "output_type": "execute_result"
    }
   ],
   "source": [
    "df['education'] = le.fit_transform(df['education'])\n",
    "df['education'].unique()"
   ]
  },
  {
   "cell_type": "code",
   "execution_count": 56,
   "id": "1b284423",
   "metadata": {},
   "outputs": [
    {
     "data": {
      "text/plain": [
       "array([1, 0, 3, 2])"
      ]
     },
     "execution_count": 56,
     "metadata": {},
     "output_type": "execute_result"
    }
   ],
   "source": [
    "df['marital-status'].unique()"
   ]
  },
  {
   "cell_type": "code",
   "execution_count": 57,
   "id": "8fd3f112",
   "metadata": {},
   "outputs": [
    {
     "data": {
      "text/html": [
       "<div>\n",
       "<style scoped>\n",
       "    .dataframe tbody tr th:only-of-type {\n",
       "        vertical-align: middle;\n",
       "    }\n",
       "\n",
       "    .dataframe tbody tr th {\n",
       "        vertical-align: top;\n",
       "    }\n",
       "\n",
       "    .dataframe thead th {\n",
       "        text-align: right;\n",
       "    }\n",
       "</style>\n",
       "<table border=\"1\" class=\"dataframe\">\n",
       "  <thead>\n",
       "    <tr style=\"text-align: right;\">\n",
       "      <th></th>\n",
       "      <th>age</th>\n",
       "      <th>workclass</th>\n",
       "      <th>fnlwgt</th>\n",
       "      <th>education</th>\n",
       "      <th>educational-num</th>\n",
       "      <th>marital-status</th>\n",
       "      <th>occupation</th>\n",
       "      <th>relationship</th>\n",
       "      <th>race</th>\n",
       "      <th>gender</th>\n",
       "      <th>capital-gain</th>\n",
       "      <th>capital-loss</th>\n",
       "      <th>hours-per-week</th>\n",
       "      <th>native-country</th>\n",
       "      <th>income</th>\n",
       "    </tr>\n",
       "  </thead>\n",
       "  <tbody>\n",
       "    <tr>\n",
       "      <th>0</th>\n",
       "      <td>25</td>\n",
       "      <td>3</td>\n",
       "      <td>226802</td>\n",
       "      <td>5</td>\n",
       "      <td>7</td>\n",
       "      <td>1</td>\n",
       "      <td>6</td>\n",
       "      <td>3</td>\n",
       "      <td>2</td>\n",
       "      <td>1</td>\n",
       "      <td>0</td>\n",
       "      <td>0</td>\n",
       "      <td>40</td>\n",
       "      <td>38</td>\n",
       "      <td>0</td>\n",
       "    </tr>\n",
       "    <tr>\n",
       "      <th>1</th>\n",
       "      <td>38</td>\n",
       "      <td>3</td>\n",
       "      <td>89814</td>\n",
       "      <td>3</td>\n",
       "      <td>9</td>\n",
       "      <td>0</td>\n",
       "      <td>4</td>\n",
       "      <td>0</td>\n",
       "      <td>4</td>\n",
       "      <td>1</td>\n",
       "      <td>0</td>\n",
       "      <td>0</td>\n",
       "      <td>50</td>\n",
       "      <td>38</td>\n",
       "      <td>0</td>\n",
       "    </tr>\n",
       "    <tr>\n",
       "      <th>2</th>\n",
       "      <td>28</td>\n",
       "      <td>1</td>\n",
       "      <td>336951</td>\n",
       "      <td>1</td>\n",
       "      <td>12</td>\n",
       "      <td>0</td>\n",
       "      <td>10</td>\n",
       "      <td>0</td>\n",
       "      <td>4</td>\n",
       "      <td>1</td>\n",
       "      <td>0</td>\n",
       "      <td>0</td>\n",
       "      <td>40</td>\n",
       "      <td>38</td>\n",
       "      <td>1</td>\n",
       "    </tr>\n",
       "    <tr>\n",
       "      <th>3</th>\n",
       "      <td>44</td>\n",
       "      <td>3</td>\n",
       "      <td>160323</td>\n",
       "      <td>1</td>\n",
       "      <td>10</td>\n",
       "      <td>0</td>\n",
       "      <td>6</td>\n",
       "      <td>0</td>\n",
       "      <td>2</td>\n",
       "      <td>1</td>\n",
       "      <td>7688</td>\n",
       "      <td>0</td>\n",
       "      <td>40</td>\n",
       "      <td>38</td>\n",
       "      <td>1</td>\n",
       "    </tr>\n",
       "    <tr>\n",
       "      <th>4</th>\n",
       "      <td>18</td>\n",
       "      <td>3</td>\n",
       "      <td>103497</td>\n",
       "      <td>1</td>\n",
       "      <td>10</td>\n",
       "      <td>1</td>\n",
       "      <td>9</td>\n",
       "      <td>3</td>\n",
       "      <td>4</td>\n",
       "      <td>0</td>\n",
       "      <td>0</td>\n",
       "      <td>0</td>\n",
       "      <td>30</td>\n",
       "      <td>38</td>\n",
       "      <td>0</td>\n",
       "    </tr>\n",
       "  </tbody>\n",
       "</table>\n",
       "</div>"
      ],
      "text/plain": [
       "   age  workclass  fnlwgt  education  educational-num  marital-status  \\\n",
       "0   25          3  226802          5                7               1   \n",
       "1   38          3   89814          3                9               0   \n",
       "2   28          1  336951          1               12               0   \n",
       "3   44          3  160323          1               10               0   \n",
       "4   18          3  103497          1               10               1   \n",
       "\n",
       "   occupation  relationship  race  gender  capital-gain  capital-loss  \\\n",
       "0           6             3     2       1             0             0   \n",
       "1           4             0     4       1             0             0   \n",
       "2          10             0     4       1             0             0   \n",
       "3           6             0     2       1          7688             0   \n",
       "4           9             3     4       0             0             0   \n",
       "\n",
       "   hours-per-week  native-country  income  \n",
       "0              40              38       0  \n",
       "1              50              38       0  \n",
       "2              40              38       1  \n",
       "3              40              38       1  \n",
       "4              30              38       0  "
      ]
     },
     "execution_count": 57,
     "metadata": {},
     "output_type": "execute_result"
    }
   ],
   "source": [
    "df.head()"
   ]
  },
  {
   "cell_type": "code",
   "execution_count": 58,
   "id": "fcfb7fc7",
   "metadata": {},
   "outputs": [],
   "source": [
    "X = df.drop('income',axis=1)"
   ]
  },
  {
   "cell_type": "code",
   "execution_count": 59,
   "id": "2bdb4009",
   "metadata": {},
   "outputs": [],
   "source": [
    "y = df.income"
   ]
  },
  {
   "cell_type": "code",
   "execution_count": 60,
   "id": "8a5142ae",
   "metadata": {},
   "outputs": [
    {
     "name": "stdout",
     "output_type": "stream",
     "text": [
      "Shape of X (input) (48790, 14)\n",
      "Shape of y (output or label) (48790,)\n"
     ]
    }
   ],
   "source": [
    "print('Shape of X (input)', X.shape)\n",
    "print('Shape of y (output or label)', y.shape)"
   ]
  },
  {
   "cell_type": "markdown",
   "id": "e37be763",
   "metadata": {},
   "source": [
    "# Random Sampling"
   ]
  },
  {
   "cell_type": "code",
   "execution_count": 61,
   "id": "7ea6330a",
   "metadata": {},
   "outputs": [],
   "source": [
    "yes = df[df['income']==1]\n",
    "no = df[df['income']==0]"
   ]
  },
  {
   "cell_type": "code",
   "execution_count": 62,
   "id": "9a652683",
   "metadata": {},
   "outputs": [
    {
     "name": "stdout",
     "output_type": "stream",
     "text": [
      "(11681, 15)\n",
      "(37109, 15)\n"
     ]
    }
   ],
   "source": [
    "print(yes.shape)\n",
    "print(no.shape)"
   ]
  },
  {
   "cell_type": "code",
   "execution_count": 63,
   "id": "36d3fe65",
   "metadata": {},
   "outputs": [],
   "source": [
    "no_sample = no.sample(n=11681)"
   ]
  },
  {
   "cell_type": "code",
   "execution_count": 64,
   "id": "36fdb54a",
   "metadata": {},
   "outputs": [
    {
     "data": {
      "text/plain": [
       "(11681, 15)"
      ]
     },
     "execution_count": 64,
     "metadata": {},
     "output_type": "execute_result"
    }
   ],
   "source": [
    "no_sample.shape"
   ]
  },
  {
   "cell_type": "code",
   "execution_count": 65,
   "id": "0702547b",
   "metadata": {},
   "outputs": [],
   "source": [
    "sampled_df = pd.concat([yes,no_sample],axis=0)"
   ]
  },
  {
   "cell_type": "code",
   "execution_count": 66,
   "id": "6b8cb2dd",
   "metadata": {},
   "outputs": [
    {
     "data": {
      "text/plain": [
       "(23362, 15)"
      ]
     },
     "execution_count": 66,
     "metadata": {},
     "output_type": "execute_result"
    }
   ],
   "source": [
    "sampled_df.shape"
   ]
  },
  {
   "cell_type": "code",
   "execution_count": 67,
   "id": "4cb7d3d0",
   "metadata": {},
   "outputs": [
    {
     "name": "stderr",
     "output_type": "stream",
     "text": [
      "/Users/nageshjadhav/opt/anaconda3/envs/ISII_Lab/lib/python3.9/site-packages/seaborn/_decorators.py:36: FutureWarning: Pass the following variable as a keyword arg: x. From version 0.12, the only valid positional argument will be `data`, and passing other arguments without an explicit keyword will result in an error or misinterpretation.\n",
      "  warnings.warn(\n"
     ]
    },
    {
     "data": {
      "text/plain": [
       "<AxesSubplot:xlabel='income', ylabel='count'>"
      ]
     },
     "execution_count": 67,
     "metadata": {},
     "output_type": "execute_result"
    },
    {
     "data": {
      "image/png": "[encoded data removed]",
      "text/plain": [
       "<Figure size 432x288 with 1 Axes>"
      ]
     },
     "metadata": {
      "needs_background": "light"
     },
     "output_type": "display_data"
    }
   ],
   "source": [
    "sns.countplot(sampled_df['income'])"
   ]
  },
  {
   "cell_type": "code",
   "execution_count": 68,
   "id": "39806915",
   "metadata": {},
   "outputs": [
    {
     "data": {
      "text/html": [
       "<div>\n",
       "<style scoped>\n",
       "    .dataframe tbody tr th:only-of-type {\n",
       "        vertical-align: middle;\n",
       "    }\n",
       "\n",
       "    .dataframe tbody tr th {\n",
       "        vertical-align: top;\n",
       "    }\n",
       "\n",
       "    .dataframe thead th {\n",
       "        text-align: right;\n",
       "    }\n",
       "</style>\n",
       "<table border=\"1\" class=\"dataframe\">\n",
       "  <thead>\n",
       "    <tr style=\"text-align: right;\">\n",
       "      <th></th>\n",
       "      <th>age</th>\n",
       "      <th>workclass</th>\n",
       "      <th>fnlwgt</th>\n",
       "      <th>education</th>\n",
       "      <th>educational-num</th>\n",
       "      <th>marital-status</th>\n",
       "      <th>occupation</th>\n",
       "      <th>relationship</th>\n",
       "      <th>race</th>\n",
       "      <th>gender</th>\n",
       "      <th>capital-gain</th>\n",
       "      <th>capital-loss</th>\n",
       "      <th>hours-per-week</th>\n",
       "      <th>native-country</th>\n",
       "      <th>income</th>\n",
       "    </tr>\n",
       "  </thead>\n",
       "  <tbody>\n",
       "    <tr>\n",
       "      <th>2</th>\n",
       "      <td>28</td>\n",
       "      <td>1</td>\n",
       "      <td>336951</td>\n",
       "      <td>1</td>\n",
       "      <td>12</td>\n",
       "      <td>0</td>\n",
       "      <td>10</td>\n",
       "      <td>0</td>\n",
       "      <td>4</td>\n",
       "      <td>1</td>\n",
       "      <td>0</td>\n",
       "      <td>0</td>\n",
       "      <td>40</td>\n",
       "      <td>38</td>\n",
       "      <td>1</td>\n",
       "    </tr>\n",
       "    <tr>\n",
       "      <th>3</th>\n",
       "      <td>44</td>\n",
       "      <td>3</td>\n",
       "      <td>160323</td>\n",
       "      <td>1</td>\n",
       "      <td>10</td>\n",
       "      <td>0</td>\n",
       "      <td>6</td>\n",
       "      <td>0</td>\n",
       "      <td>2</td>\n",
       "      <td>1</td>\n",
       "      <td>7688</td>\n",
       "      <td>0</td>\n",
       "      <td>40</td>\n",
       "      <td>38</td>\n",
       "      <td>1</td>\n",
       "    </tr>\n",
       "    <tr>\n",
       "      <th>7</th>\n",
       "      <td>63</td>\n",
       "      <td>5</td>\n",
       "      <td>104626</td>\n",
       "      <td>4</td>\n",
       "      <td>15</td>\n",
       "      <td>0</td>\n",
       "      <td>9</td>\n",
       "      <td>0</td>\n",
       "      <td>4</td>\n",
       "      <td>1</td>\n",
       "      <td>3103</td>\n",
       "      <td>0</td>\n",
       "      <td>32</td>\n",
       "      <td>38</td>\n",
       "      <td>1</td>\n",
       "    </tr>\n",
       "    <tr>\n",
       "      <th>10</th>\n",
       "      <td>65</td>\n",
       "      <td>3</td>\n",
       "      <td>184454</td>\n",
       "      <td>3</td>\n",
       "      <td>9</td>\n",
       "      <td>0</td>\n",
       "      <td>6</td>\n",
       "      <td>0</td>\n",
       "      <td>4</td>\n",
       "      <td>1</td>\n",
       "      <td>6418</td>\n",
       "      <td>0</td>\n",
       "      <td>40</td>\n",
       "      <td>38</td>\n",
       "      <td>1</td>\n",
       "    </tr>\n",
       "    <tr>\n",
       "      <th>14</th>\n",
       "      <td>48</td>\n",
       "      <td>3</td>\n",
       "      <td>279724</td>\n",
       "      <td>3</td>\n",
       "      <td>9</td>\n",
       "      <td>0</td>\n",
       "      <td>6</td>\n",
       "      <td>0</td>\n",
       "      <td>4</td>\n",
       "      <td>1</td>\n",
       "      <td>3103</td>\n",
       "      <td>0</td>\n",
       "      <td>48</td>\n",
       "      <td>38</td>\n",
       "      <td>1</td>\n",
       "    </tr>\n",
       "  </tbody>\n",
       "</table>\n",
       "</div>"
      ],
      "text/plain": [
       "    age  workclass  fnlwgt  education  educational-num  marital-status  \\\n",
       "2    28          1  336951          1               12               0   \n",
       "3    44          3  160323          1               10               0   \n",
       "7    63          5  104626          4               15               0   \n",
       "10   65          3  184454          3                9               0   \n",
       "14   48          3  279724          3                9               0   \n",
       "\n",
       "    occupation  relationship  race  gender  capital-gain  capital-loss  \\\n",
       "2           10             0     4       1             0             0   \n",
       "3            6             0     2       1          7688             0   \n",
       "7            9             0     4       1          3103             0   \n",
       "10           6             0     4       1          6418             0   \n",
       "14           6             0     4       1          3103             0   \n",
       "\n",
       "    hours-per-week  native-country  income  \n",
       "2               40              38       1  \n",
       "3               40              38       1  \n",
       "7               32              38       1  \n",
       "10              40              38       1  \n",
       "14              48              38       1  "
      ]
     },
     "execution_count": 68,
     "metadata": {},
     "output_type": "execute_result"
    }
   ],
   "source": [
    "sampled_df.head()"
   ]
  },
  {
   "cell_type": "code",
   "execution_count": 69,
   "id": "cc154e01",
   "metadata": {},
   "outputs": [
    {
     "name": "stdout",
     "output_type": "stream",
     "text": [
      "       age  workclass  fnlwgt  education  educational-num  marital-status  \\\n",
      "0       25          3  226802          5                7               1   \n",
      "1       38          3   89814          3                9               0   \n",
      "2       28          1  336951          1               12               0   \n",
      "3       44          3  160323          1               10               0   \n",
      "4       18          3  103497          1               10               1   \n",
      "...    ...        ...     ...        ...              ...             ...   \n",
      "48837   27          3  257302          1               12               0   \n",
      "48838   40          3  154374          3                9               0   \n",
      "48839   58          3  151910          3                9               3   \n",
      "48840   22          3  201490          3                9               1   \n",
      "48841   52          4  287927          3                9               0   \n",
      "\n",
      "       occupation  relationship  race  gender  capital-gain  capital-loss  \\\n",
      "0               6             3     2       1             0             0   \n",
      "1               4             0     4       1             0             0   \n",
      "2              10             0     4       1             0             0   \n",
      "3               6             0     2       1          7688             0   \n",
      "4               9             3     4       0             0             0   \n",
      "...           ...           ...   ...     ...           ...           ...   \n",
      "48837          12             5     4       0             0             0   \n",
      "48838           6             0     4       1             0             0   \n",
      "48839           0             4     4       0             0             0   \n",
      "48840           0             3     4       1             0             0   \n",
      "48841           3             5     4       0         15024             0   \n",
      "\n",
      "       hours-per-week  native-country  \n",
      "0                  40              38  \n",
      "1                  50              38  \n",
      "2                  40              38  \n",
      "3                  40              38  \n",
      "4                  30              38  \n",
      "...               ...             ...  \n",
      "48837              38              38  \n",
      "48838              40              38  \n",
      "48839              40              38  \n",
      "48840              20              38  \n",
      "48841              40              38  \n",
      "\n",
      "[48790 rows x 14 columns]\n"
     ]
    },
    {
     "data": {
      "text/plain": [
       "<function matplotlib.pyplot.show(close=None, block=None)>"
      ]
     },
     "execution_count": 69,
     "metadata": {},
     "output_type": "execute_result"
    },
    {
     "data": {
      "image/png": "[encoded data removed]",
      "text/plain": [
       "<Figure size 432x288 with 1 Axes>"
      ]
     },
     "metadata": {
      "needs_background": "light"
     },
     "output_type": "display_data"
    }
   ],
   "source": [
    "print(X)\n",
    "from sklearn.feature_selection import mutual_info_classif\n",
    "importance=mutual_info_classif(X,y)\n",
    "imp_feat=pd.Series(importance,df.columns[0:len(df.columns)-1])\n",
    "imp_feat.plot(kind=\"barh\",color=\"teal\")\n",
    "plt.show"
   ]
  },
  {
   "cell_type": "code",
   "execution_count": 70,
   "id": "67f35482",
   "metadata": {},
   "outputs": [],
   "source": [
    "X = df.drop(['native-country','gender','race','workclass','fnlwgt','income'],axis=1)"
   ]
  },
  {
   "cell_type": "code",
   "execution_count": 71,
   "id": "e10f338e",
   "metadata": {},
   "outputs": [
    {
     "data": {
      "text/html": [
       "<div>\n",
       "<style scoped>\n",
       "    .dataframe tbody tr th:only-of-type {\n",
       "        vertical-align: middle;\n",
       "    }\n",
       "\n",
       "    .dataframe tbody tr th {\n",
       "        vertical-align: top;\n",
       "    }\n",
       "\n",
       "    .dataframe thead th {\n",
       "        text-align: right;\n",
       "    }\n",
       "</style>\n",
       "<table border=\"1\" class=\"dataframe\">\n",
       "  <thead>\n",
       "    <tr style=\"text-align: right;\">\n",
       "      <th></th>\n",
       "      <th>age</th>\n",
       "      <th>education</th>\n",
       "      <th>educational-num</th>\n",
       "      <th>marital-status</th>\n",
       "      <th>occupation</th>\n",
       "      <th>relationship</th>\n",
       "      <th>capital-gain</th>\n",
       "      <th>capital-loss</th>\n",
       "      <th>hours-per-week</th>\n",
       "    </tr>\n",
       "  </thead>\n",
       "  <tbody>\n",
       "    <tr>\n",
       "      <th>0</th>\n",
       "      <td>25</td>\n",
       "      <td>5</td>\n",
       "      <td>7</td>\n",
       "      <td>1</td>\n",
       "      <td>6</td>\n",
       "      <td>3</td>\n",
       "      <td>0</td>\n",
       "      <td>0</td>\n",
       "      <td>40</td>\n",
       "    </tr>\n",
       "    <tr>\n",
       "      <th>1</th>\n",
       "      <td>38</td>\n",
       "      <td>3</td>\n",
       "      <td>9</td>\n",
       "      <td>0</td>\n",
       "      <td>4</td>\n",
       "      <td>0</td>\n",
       "      <td>0</td>\n",
       "      <td>0</td>\n",
       "      <td>50</td>\n",
       "    </tr>\n",
       "    <tr>\n",
       "      <th>2</th>\n",
       "      <td>28</td>\n",
       "      <td>1</td>\n",
       "      <td>12</td>\n",
       "      <td>0</td>\n",
       "      <td>10</td>\n",
       "      <td>0</td>\n",
       "      <td>0</td>\n",
       "      <td>0</td>\n",
       "      <td>40</td>\n",
       "    </tr>\n",
       "    <tr>\n",
       "      <th>3</th>\n",
       "      <td>44</td>\n",
       "      <td>1</td>\n",
       "      <td>10</td>\n",
       "      <td>0</td>\n",
       "      <td>6</td>\n",
       "      <td>0</td>\n",
       "      <td>7688</td>\n",
       "      <td>0</td>\n",
       "      <td>40</td>\n",
       "    </tr>\n",
       "    <tr>\n",
       "      <th>4</th>\n",
       "      <td>18</td>\n",
       "      <td>1</td>\n",
       "      <td>10</td>\n",
       "      <td>1</td>\n",
       "      <td>9</td>\n",
       "      <td>3</td>\n",
       "      <td>0</td>\n",
       "      <td>0</td>\n",
       "      <td>30</td>\n",
       "    </tr>\n",
       "    <tr>\n",
       "      <th>...</th>\n",
       "      <td>...</td>\n",
       "      <td>...</td>\n",
       "      <td>...</td>\n",
       "      <td>...</td>\n",
       "      <td>...</td>\n",
       "      <td>...</td>\n",
       "      <td>...</td>\n",
       "      <td>...</td>\n",
       "      <td>...</td>\n",
       "    </tr>\n",
       "    <tr>\n",
       "      <th>48837</th>\n",
       "      <td>27</td>\n",
       "      <td>1</td>\n",
       "      <td>12</td>\n",
       "      <td>0</td>\n",
       "      <td>12</td>\n",
       "      <td>5</td>\n",
       "      <td>0</td>\n",
       "      <td>0</td>\n",
       "      <td>38</td>\n",
       "    </tr>\n",
       "    <tr>\n",
       "      <th>48838</th>\n",
       "      <td>40</td>\n",
       "      <td>3</td>\n",
       "      <td>9</td>\n",
       "      <td>0</td>\n",
       "      <td>6</td>\n",
       "      <td>0</td>\n",
       "      <td>0</td>\n",
       "      <td>0</td>\n",
       "      <td>40</td>\n",
       "    </tr>\n",
       "    <tr>\n",
       "      <th>48839</th>\n",
       "      <td>58</td>\n",
       "      <td>3</td>\n",
       "      <td>9</td>\n",
       "      <td>3</td>\n",
       "      <td>0</td>\n",
       "      <td>4</td>\n",
       "      <td>0</td>\n",
       "      <td>0</td>\n",
       "      <td>40</td>\n",
       "    </tr>\n",
       "    <tr>\n",
       "      <th>48840</th>\n",
       "      <td>22</td>\n",
       "      <td>3</td>\n",
       "      <td>9</td>\n",
       "      <td>1</td>\n",
       "      <td>0</td>\n",
       "      <td>3</td>\n",
       "      <td>0</td>\n",
       "      <td>0</td>\n",
       "      <td>20</td>\n",
       "    </tr>\n",
       "    <tr>\n",
       "      <th>48841</th>\n",
       "      <td>52</td>\n",
       "      <td>3</td>\n",
       "      <td>9</td>\n",
       "      <td>0</td>\n",
       "      <td>3</td>\n",
       "      <td>5</td>\n",
       "      <td>15024</td>\n",
       "      <td>0</td>\n",
       "      <td>40</td>\n",
       "    </tr>\n",
       "  </tbody>\n",
       "</table>\n",
       "<p>48790 rows × 9 columns</p>\n",
       "</div>"
      ],
      "text/plain": [
       "       age  education  educational-num  marital-status  occupation  \\\n",
       "0       25          5                7               1           6   \n",
       "1       38          3                9               0           4   \n",
       "2       28          1               12               0          10   \n",
       "3       44          1               10               0           6   \n",
       "4       18          1               10               1           9   \n",
       "...    ...        ...              ...             ...         ...   \n",
       "48837   27          1               12               0          12   \n",
       "48838   40          3                9               0           6   \n",
       "48839   58          3                9               3           0   \n",
       "48840   22          3                9               1           0   \n",
       "48841   52          3                9               0           3   \n",
       "\n",
       "       relationship  capital-gain  capital-loss  hours-per-week  \n",
       "0                 3             0             0              40  \n",
       "1                 0             0             0              50  \n",
       "2                 0             0             0              40  \n",
       "3                 0          7688             0              40  \n",
       "4                 3             0             0              30  \n",
       "...             ...           ...           ...             ...  \n",
       "48837             5             0             0              38  \n",
       "48838             0             0             0              40  \n",
       "48839             4             0             0              40  \n",
       "48840             3             0             0              20  \n",
       "48841             5         15024             0              40  \n",
       "\n",
       "[48790 rows x 9 columns]"
      ]
     },
     "execution_count": 71,
     "metadata": {},
     "output_type": "execute_result"
    }
   ],
   "source": [
    "X"
   ]
  },
  {
   "cell_type": "code",
   "execution_count": 72,
   "id": "840765a0",
   "metadata": {},
   "outputs": [
    {
     "name": "stdout",
     "output_type": "stream",
     "text": [
      "Shape of Training (X) (39032, 9)\n",
      "Shape of Training (y) (39032,)\n",
      "Shape of Test (X) (9758, 9)\n",
      "Shape of Test (y) (9758,)\n"
     ]
    }
   ],
   "source": [
    "from sklearn.model_selection import train_test_split\n",
    "Xtrain, Xtest, ytrain,ytest = train_test_split(X,y,\n",
    "                                test_size = 0.2, \n",
    "                               random_state=42, \n",
    "                               shuffle=True)\n",
    "\n",
    "print('Shape of Training (X)', Xtrain.shape)\n",
    "print('Shape of Training (y)', ytrain.shape)\n",
    "print('Shape of Test (X)', Xtest.shape)\n",
    "print('Shape of Test (y)', ytest.shape)"
   ]
  },
  {
   "cell_type": "code",
   "execution_count": 73,
   "id": "e53d6249",
   "metadata": {},
   "outputs": [],
   "source": [
    "from sklearn.preprocessing import StandardScaler\n",
    "\n",
    "scaler = StandardScaler()\n",
    "Xtrain_tf = scaler.fit_transform(Xtrain)"
   ]
  },
  {
   "cell_type": "code",
   "execution_count": 74,
   "id": "4cf058c4",
   "metadata": {},
   "outputs": [
    {
     "name": "stdout",
     "output_type": "stream",
     "text": [
      "Iteration 1, loss = 0.41034715\n",
      "Iteration 2, loss = 0.33714106\n",
      "Iteration 3, loss = 0.32838032\n",
      "Iteration 4, loss = 0.32484975\n",
      "Iteration 5, loss = 0.32299985\n",
      "Iteration 6, loss = 0.32185561\n",
      "Iteration 7, loss = 0.32081637\n",
      "Iteration 8, loss = 0.32002815\n",
      "Iteration 9, loss = 0.31957722\n",
      "Iteration 10, loss = 0.31899632\n",
      "Iteration 11, loss = 0.31858258\n",
      "Iteration 12, loss = 0.31826273\n",
      "Iteration 13, loss = 0.31801533\n",
      "Iteration 14, loss = 0.31727963\n",
      "Iteration 15, loss = 0.31721199\n",
      "Iteration 16, loss = 0.31675953\n",
      "Iteration 17, loss = 0.31662327\n",
      "Iteration 18, loss = 0.31649185\n",
      "Iteration 19, loss = 0.31637322\n",
      "Iteration 20, loss = 0.31604276\n",
      "Iteration 21, loss = 0.31589505\n",
      "Iteration 22, loss = 0.31581213\n",
      "Iteration 23, loss = 0.31567465\n",
      "Iteration 24, loss = 0.31524644\n",
      "Iteration 25, loss = 0.31500076\n",
      "Iteration 26, loss = 0.31499049\n",
      "Iteration 27, loss = 0.31458190\n",
      "Iteration 28, loss = 0.31451653\n",
      "Iteration 29, loss = 0.31460005\n",
      "Iteration 30, loss = 0.31410157\n",
      "Iteration 31, loss = 0.31409883\n",
      "Iteration 32, loss = 0.31390941\n",
      "Iteration 33, loss = 0.31386594\n",
      "Iteration 34, loss = 0.31370868\n",
      "Iteration 35, loss = 0.31342816\n",
      "Iteration 36, loss = 0.31369643\n",
      "Iteration 37, loss = 0.31339510\n",
      "Iteration 38, loss = 0.31331455\n",
      "Iteration 39, loss = 0.31310630\n",
      "Iteration 40, loss = 0.31318028\n",
      "Iteration 41, loss = 0.31261272\n",
      "Iteration 42, loss = 0.31289430\n",
      "Iteration 43, loss = 0.31255942\n",
      "Iteration 44, loss = 0.31260546\n",
      "Iteration 45, loss = 0.31253356\n",
      "Iteration 46, loss = 0.31232166\n",
      "Iteration 47, loss = 0.31227290\n",
      "Iteration 48, loss = 0.31197624\n",
      "Iteration 49, loss = 0.31178553\n",
      "Iteration 50, loss = 0.31188176\n",
      "Iteration 51, loss = 0.31144766\n",
      "Iteration 52, loss = 0.31175788\n",
      "Iteration 53, loss = 0.31141820\n",
      "Iteration 54, loss = 0.31135835\n",
      "Iteration 55, loss = 0.31143147\n",
      "Iteration 56, loss = 0.31169781\n",
      "Iteration 57, loss = 0.31116709\n",
      "Iteration 58, loss = 0.31109593\n",
      "Iteration 59, loss = 0.31078992\n",
      "Iteration 60, loss = 0.31091588\n",
      "Iteration 61, loss = 0.31097929\n",
      "Iteration 62, loss = 0.31075745\n",
      "Iteration 63, loss = 0.31068758\n",
      "Iteration 64, loss = 0.31090313\n",
      "Iteration 65, loss = 0.31071267\n",
      "Iteration 66, loss = 0.31026218\n",
      "Iteration 67, loss = 0.31011493\n",
      "Iteration 68, loss = 0.30995814\n",
      "Iteration 69, loss = 0.31009592\n",
      "Iteration 70, loss = 0.31006210\n",
      "Iteration 71, loss = 0.30980109\n",
      "Iteration 72, loss = 0.30977541\n",
      "Iteration 73, loss = 0.30963862\n",
      "Iteration 74, loss = 0.30975196\n",
      "Iteration 75, loss = 0.30928311\n",
      "Iteration 76, loss = 0.30927640\n",
      "Iteration 77, loss = 0.30910163\n",
      "Iteration 78, loss = 0.30918709\n",
      "Iteration 79, loss = 0.30929953\n",
      "Iteration 80, loss = 0.30946262\n",
      "Iteration 81, loss = 0.30898413\n",
      "Iteration 82, loss = 0.30887304\n",
      "Iteration 83, loss = 0.30901641\n",
      "Iteration 84, loss = 0.30879793\n",
      "Iteration 85, loss = 0.30899713\n",
      "Iteration 86, loss = 0.30876957\n",
      "Iteration 87, loss = 0.30842132\n",
      "Iteration 88, loss = 0.30850890\n",
      "Iteration 89, loss = 0.30839431\n",
      "Iteration 90, loss = 0.30834755\n",
      "Iteration 91, loss = 0.30826908\n",
      "Iteration 92, loss = 0.30830433\n",
      "Iteration 93, loss = 0.30808619\n",
      "Iteration 94, loss = 0.30836086\n",
      "Iteration 95, loss = 0.30815439\n",
      "Iteration 96, loss = 0.30781665\n",
      "Iteration 97, loss = 0.30778932\n",
      "Iteration 98, loss = 0.30799645\n",
      "Iteration 99, loss = 0.30761932\n",
      "Iteration 100, loss = 0.30798916\n"
     ]
    },
    {
     "name": "stderr",
     "output_type": "stream",
     "text": [
      "/Users/nageshjadhav/opt/anaconda3/envs/ISII_Lab/lib/python3.9/site-packages/sklearn/neural_network/_multilayer_perceptron.py:692: ConvergenceWarning: Stochastic Optimizer: Maximum iterations (100) reached and the optimization hasn't converged yet.\n",
      "  warnings.warn(\n"
     ]
    },
    {
     "data": {
      "text/plain": [
       "MLPClassifier(hidden_layer_sizes=(80,), max_iter=100, verbose=True)"
      ]
     },
     "execution_count": 74,
     "metadata": {},
     "output_type": "execute_result"
    }
   ],
   "source": [
    "from sklearn.neural_network import MLPClassifier\n",
    "\n",
    "mlp = MLPClassifier(hidden_layer_sizes=(80,), activation='relu',solver='adam', \n",
    "                    max_iter=100,verbose=True)\n",
    "\n",
    "mlp.fit(Xtrain_tf,ytrain)\n"
   ]
  },
  {
   "cell_type": "code",
   "execution_count": 75,
   "id": "a2f47619",
   "metadata": {},
   "outputs": [
    {
     "data": {
      "text/plain": [
       "0.8561692969870875"
      ]
     },
     "execution_count": 75,
     "metadata": {},
     "output_type": "execute_result"
    }
   ],
   "source": [
    "mlp.score(Xtrain_tf,ytrain)"
   ]
  },
  {
   "cell_type": "code",
   "execution_count": 76,
   "id": "2411e32e",
   "metadata": {},
   "outputs": [],
   "source": [
    "Xtest_tf = scaler.transform(Xtest)"
   ]
  },
  {
   "cell_type": "code",
   "execution_count": 77,
   "id": "134d6c1a",
   "metadata": {},
   "outputs": [
    {
     "data": {
      "text/plain": [
       "0.8528386964541914"
      ]
     },
     "execution_count": 77,
     "metadata": {},
     "output_type": "execute_result"
    }
   ],
   "source": [
    "mlp.score(Xtest_tf,ytest)"
   ]
  },
  {
   "cell_type": "code",
   "execution_count": 78,
   "id": "001aabba",
   "metadata": {},
   "outputs": [],
   "source": [
    "pred = mlp.predict(Xtest_tf)"
   ]
  },
  {
   "cell_type": "code",
   "execution_count": 79,
   "id": "bcbee628",
   "metadata": {},
   "outputs": [
    {
     "name": "stdout",
     "output_type": "stream",
     "text": [
      "[1 0 1 ... 1 0 0]\n"
     ]
    }
   ],
   "source": [
    "print(pred)"
   ]
  },
  {
   "cell_type": "code",
   "execution_count": 80,
   "id": "7d388c10",
   "metadata": {},
   "outputs": [
    {
     "name": "stdout",
     "output_type": "stream",
     "text": [
      "3169     0\n",
      "25270    1\n",
      "33668    1\n",
      "29925    1\n",
      "11098    0\n",
      "        ..\n",
      "40813    0\n",
      "40607    0\n",
      "25417    0\n",
      "38914    0\n",
      "3720     0\n",
      "Name: income, Length: 9758, dtype: int64\n"
     ]
    }
   ],
   "source": [
    "print(ytest)"
   ]
  }
 ],
 "metadata": {
  "kernelspec": {
   "display_name": "Python 3 (ipykernel)",
   "language": "python",
   "name": "python3"
  },
  "language_info": {
   "codemirror_mode": {
    "name": "ipython",
    "version": 3
   },
   "file_extension": ".py",
   "mimetype": "text/x-python",
   "name": "python",
   "nbconvert_exporter": "python",
   "pygments_lexer": "ipython3",
   "version": "3.11.5"
  }
 },
 "nbformat": 4,
 "nbformat_minor": 5
}
